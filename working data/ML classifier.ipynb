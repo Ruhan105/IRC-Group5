{
 "cells": [
  {
   "cell_type": "markdown",
   "metadata": {},
   "source": [
    "## Classifier model \n",
    "(since linear regression doesnt seem to work when we only look at the weather)"
   ]
  },
  {
   "cell_type": "markdown",
   "metadata": {},
   "source": [
    "#### Load dataframe, sort to 1984-2023, change date column into date format"
   ]
  },
  {
   "cell_type": "code",
   "execution_count": null,
   "metadata": {},
   "outputs": [
    {
     "name": "stderr",
     "output_type": "stream",
     "text": [
      "C:\\Users\\natal\\AppData\\Local\\Temp\\ipykernel_35960\\737385975.py:7: UserWarning: Parsing dates in %d/%m/%Y format when dayfirst=False (the default) was specified. Pass `dayfirst=True` or specify a format to silence this warning.\n",
      "  fire['ALARM_DATE'] = pd.to_datetime(fire['ALARM_DATE'])\n"
     ]
    }
   ],
   "source": [
    "#import both dataframe (fire and weather), sort to 1984-2023\n",
    "import pandas as pd\n",
    "weather = pd.read_csv(r'weather_pivoted.csv')\n",
    "fire = pd.read_csv(r'fire data with 83 firestn.csv')\n",
    "\n",
    "\n",
    "weather['date']= pd.to_datetime(weather['date'])\n",
    "fire['ALARM_DATE'] = pd.to_datetime(fire['ALARM_DATE'])\n",
    "\n",
    "weather = weather.loc[(weather['date'] >= '1984-01-01') & (weather['date'] <= '2023-12-31')]\n",
    "\n",
    "\n",
    "#weather.set_index(['date'])\n",
    "#fire.set_index(['ALARM_DATE'])\n",
    "\n"
   ]
  },
  {
   "cell_type": "markdown",
   "metadata": {},
   "source": [
    "### Merge 2 dataframe and add a column to indicate fire occurence (1/0)"
   ]
  },
  {
   "cell_type": "code",
   "execution_count": null,
   "metadata": {},
   "outputs": [],
   "source": [
    "#merge dataframes\n",
    "\n",
    "weather_fire_merged = weather.merge(fire, left_on='date', right_on='ALARM_DATE', how='left')\n",
    "\n",
    "#adding a column to indicate whether there is a fire on the date\n",
    "weather_fire_merged['Fire_occur'] = weather_fire_merged['GIS_ACRES'].notna().astype(int)\n",
    "\n",
    "\n"
   ]
  },
  {
   "cell_type": "code",
   "execution_count": 28,
   "metadata": {},
   "outputs": [],
   "source": [
    "weather_fire_merged= pd.read_csv(r'weather_fire_merged pivoted.csv')\n",
    "a = weather_fire_merged.isnull().sum()\n",
    "weather_fire_merged = weather_fire_merged.drop(columns=weather_fire_merged.columns[weather_fire_merged.isnull().sum() > 400000])\n",
    "\n",
    "# Drop specified columns\n",
    "weather_fire_class = weather_fire_merged.drop(columns=['GIS_ACRES', 'Shape__Area', 'Shape__Length'])\n",
    "\n"
   ]
  },
  {
   "cell_type": "markdown",
   "metadata": {},
   "source": [
    "pd.merge on column is too slow, try making id and date index now"
   ]
  },
  {
   "cell_type": "markdown",
   "metadata": {},
   "source": [
    "### Classification model: Random forest classifier"
   ]
  },
  {
   "cell_type": "markdown",
   "metadata": {},
   "source": [
    "** have not done it so this is just a template: 260225**"
   ]
  },
  {
   "cell_type": "code",
   "execution_count": 73,
   "metadata": {},
   "outputs": [
    {
     "name": "stdout",
     "output_type": "stream",
     "text": [
      "Fire_occur\n",
      "0    270065\n",
      "1    225800\n",
      "Name: count, dtype: int64\n"
     ]
    }
   ],
   "source": [
    "print(weather_fire_merged['Fire_occur'].value_counts())\n",
    "\n"
   ]
  },
  {
   "cell_type": "code",
   "execution_count": 71,
   "metadata": {},
   "outputs": [
    {
     "name": "stdout",
     "output_type": "stream",
     "text": [
      "Train class distribution:\n",
      " Fire_occur\n",
      "0    216052\n",
      "1    180640\n",
      "Name: count, dtype: int64\n",
      "Test class distribution:\n",
      " Fire_occur\n",
      "0    54013\n",
      "1    45160\n",
      "Name: count, dtype: int64\n",
      "🔥 Accuracy: 1.0\n",
      "\n",
      "📊 Classification Report:\n",
      "               precision    recall  f1-score   support\n",
      "\n",
      "           0       1.00      1.00      1.00     54013\n",
      "           1       1.00      1.00      1.00     45160\n",
      "\n",
      "    accuracy                           1.00     99173\n",
      "   macro avg       1.00      1.00      1.00     99173\n",
      "weighted avg       1.00      1.00      1.00     99173\n",
      "\n",
      "\n",
      "🧩 Confusion Matrix:\n",
      " [[54013     0]\n",
      " [    0 45160]]\n"
     ]
    }
   ],
   "source": [
    "import numpy as np\n",
    "import pandas as pd\n",
    "from sklearn.ensemble import RandomForestClassifier\n",
    "from sklearn.metrics import accuracy_score, classification_report, confusion_matrix\n",
    "from sklearn.model_selection import train_test_split\n",
    "\n",
    "# Ensure ALARM_DATE is in datetime format\n",
    "weather_fire_merged['ALARM_DATE'] = pd.to_datetime(weather_fire_merged['ALARM_DATE'])\n",
    "\n",
    "# Feature Engineering for Time Series Classification\n",
    "weather_fire_merged['month'] = weather_fire_merged['ALARM_DATE'].dt.month  # Capture seasonality\n",
    "weather_fire_merged['year'] = weather_fire_merged['ALARM_DATE'].dt.year    # Capture trend\n",
    "\n",
    "# Define Features and Target\n",
    "X = weather_fire_merged.loc[:, 'PRCP':'TOBS']  # Select all columns from PRCP to TOBS\n",
    "X['month'] = weather_fire_merged['month']      # Add month as a feature\n",
    "y = weather_fire_merged['Fire_occur']          # Target variable (binary)\n",
    "\n",
    "# Ensure `y` is numeric (in case it's not already)\n",
    "y = y.astype(int)  # 1 = Fire occurred, 0 = No Fire\n",
    "\n",
    "# Split the data into train and test (stratified by 'Fire_occur' to keep class balance)\n",
    "X_train, X_test, y_train, y_test = train_test_split(\n",
    "    X, y, test_size=0.2, random_state=42, stratify=y\n",
    ")\n",
    "\n",
    "# Check the class distribution in the training and testing sets\n",
    "print(\"Train class distribution:\\n\", y_train.value_counts())\n",
    "print(\"Test class distribution:\\n\", y_test.value_counts())\n",
    "\n",
    "# Define and Train the RandomForestClassifier model\n",
    "model = RandomForestClassifier(random_state=42, n_estimators=100, class_weight='balanced')\n",
    "model.fit(X_train, y_train)\n",
    "\n",
    "# Make Predictions\n",
    "y_pred = model.predict(X_test)\n",
    "\n",
    "# Evaluate the Classification Model\n",
    "print(\"🔥 Accuracy:\", accuracy_score(y_test, y_pred))\n",
    "print(\"\\n📊 Classification Report:\\n\", classification_report(y_test, y_pred))\n",
    "print(\"\\n🧩 Confusion Matrix:\\n\", confusion_matrix(y_test, y_pred))\n"
   ]
  },
  {
   "cell_type": "code",
   "execution_count": 72,
   "metadata": {},
   "outputs": [
    {
     "name": "stdout",
     "output_type": "stream",
     "text": [
      "Cross-validated accuracy scores: [1. 1. 1. 1. 1.]\n",
      "Average cross-validated accuracy: 1.0\n"
     ]
    }
   ],
   "source": [
    "from sklearn.model_selection import cross_val_score\n",
    "\n",
    "# Perform cross-validation\n",
    "cv_scores = cross_val_score(model, X, y, cv=5, scoring='accuracy')\n",
    "print(\"Cross-validated accuracy scores:\", cv_scores)\n",
    "print(\"Average cross-validated accuracy:\", cv_scores.mean())\n"
   ]
  },
  {
   "cell_type": "markdown",
   "metadata": {},
   "source": [
    "### now that looks too good to be true: we look at the feature importance to see which one is the dominating factor"
   ]
  },
  {
   "cell_type": "markdown",
   "metadata": {},
   "source": [
    "### Month(seasonality) contribute the most: try dropping month and see if the model can still perform well"
   ]
  },
  {
   "cell_type": "markdown",
   "metadata": {},
   "source": [
    "Seasonal encoding: You can use sinusoidal encoding (sine and cosine transformations) for month and day features to capture periodicity without allowing the raw values to dominate. This allows the model to interpret months as a continuous cycle.\n",
    "<-> i tried and the model rely too much on seasonal pattern(feature importance) -> now the below code predict based on weather features only"
   ]
  },
  {
   "cell_type": "code",
   "execution_count": null,
   "metadata": {},
   "outputs": [
    {
     "name": "stdout",
     "output_type": "stream",
     "text": [
      "Train class distribution:\n",
      " Fire_occur\n",
      "0    216052\n",
      "1    180640\n",
      "Name: count, dtype: int64\n",
      "Test class distribution:\n",
      " Fire_occur\n",
      "0    54013\n",
      "1    45160\n",
      "Name: count, dtype: int64\n",
      "Accuracy without month feature: 0.7683744567573836\n",
      "🔥 Accuracy: 0.7683744567573836\n",
      "\n",
      "📊 Classification Report:\n",
      "               precision    recall  f1-score   support\n",
      "\n",
      "           0       0.80      0.76      0.78     54013\n",
      "           1       0.73      0.78      0.75     45160\n",
      "\n",
      "    accuracy                           0.77     99173\n",
      "   macro avg       0.77      0.77      0.77     99173\n",
      "weighted avg       0.77      0.77      0.77     99173\n",
      "\n",
      "\n",
      "🧩 Confusion Matrix:\n",
      " [[41131 12882]\n",
      " [10089 35071]]\n"
     ]
    }
   ],
   "source": [
    "import numpy as np\n",
    "import pandas as pd\n",
    "from sklearn.ensemble import RandomForestClassifier\n",
    "from sklearn.metrics import accuracy_score, classification_report, confusion_matrix\n",
    "from sklearn.model_selection import train_test_split\n",
    "\n",
    "# Ensure ALARM_DATE is in datetime format\n",
    "weather_fire_merged['ALARM_DATE'] = pd.to_datetime(weather_fire_merged['ALARM_DATE'])\n",
    "\n",
    "# Feature Engineering for Time Series Classification\n",
    "#weather_fire_merged['month'] = weather_fire_merged['ALARM_DATE'].dt.month  # Capture seasonality\n",
    "#weather_fire_merged['year'] = weather_fire_merged['ALARM_DATE'].dt.year    # Capture trend\n",
    "weather_fire_merged['month_sin'] = np.sin(2 * np.pi * weather_fire_merged['month'] / 12)\n",
    "weather_fire_merged['month_cos'] = np.cos(2 * np.pi * weather_fire_merged['month'] / 12)\n",
    "\n",
    "# Define Features and Target\n",
    "X = weather_fire_merged.loc[:, 'PRCP':'TOBS']  # Select all columns from PRCP to TOBS\n",
    "#X = X.assign(month_sin=weather_fire_merged['month_sin'], month_cos=weather_fire_merged['month_cos'])\n",
    "y = weather_fire_merged['Fire_occur']          # Target variable (binary)\n",
    "\n",
    "# Ensure `y` is numeric (in case it's not already)\n",
    "y = y.astype(int)  # 1 = Fire occurred, 0 = No Fire\n",
    "\n",
    "# Split the data into train and test (stratified by 'Fire_occur' to keep class balance)\n",
    "X_train, X_test, y_train, y_test = train_test_split(\n",
    "    X, y, test_size=0.2, random_state=42, stratify=y\n",
    ")\n",
    "\n",
    "# Check the class distribution in the training and testing sets\n",
    "print(\"Train class distribution:\\n\", y_train.value_counts())\n",
    "print(\"Test class distribution:\\n\", y_test.value_counts())\n",
    "\n",
    "# Define and Train the RandomForestClassifier model\n",
    "model = RandomForestClassifier(random_state=42, n_estimators=100, class_weight='balanced')\n",
    "\n",
    "\n",
    "\n",
    "\n",
    "# Train the model with the modified data (without the 'month' column)\n",
    "model.fit(X_train, y_train)\n",
    "\n",
    "# Make predictions on the test set\n",
    "y_pred = model.predict(X_test)\n",
    "\n",
    "\n",
    "# Evaluate the Classification Model\n",
    "print(\"🔥 Accuracy:\", accuracy_score(y_test, y_pred))\n",
    "print(\"\\n📊 Classification Report:\\n\", classification_report(y_test, y_pred))\n",
    "print(\"\\n🧩 Confusion Matrix:\\n\", confusion_matrix(y_test, y_pred))\n"
   ]
  },
  {
   "cell_type": "code",
   "execution_count": 41,
   "metadata": {},
   "outputs": [
    {
     "name": "stdout",
     "output_type": "stream",
     "text": [
      "Test Accuracy: 0.7683744567573836\n"
     ]
    }
   ],
   "source": [
    "# Test set evaluation\n",
    "y_pred = model.predict(X_test)\n",
    "print(\"Test Accuracy:\", accuracy_score(y_test, y_pred))\n"
   ]
  },
  {
   "cell_type": "markdown",
   "metadata": {},
   "source": [
    "### Feature importance"
   ]
  },
  {
   "cell_type": "code",
   "execution_count": 69,
   "metadata": {},
   "outputs": [
    {
     "name": "stdout",
     "output_type": "stream",
     "text": [
      "Feature importances (sorted):\n",
      "ACMH: 0.0\n",
      "WT01: 0.0\n",
      "WT02: 0.0\n",
      "WT03: 0.0\n",
      "WT04: 0.0\n",
      "WT05: 0.0\n",
      "WT06: 0.0\n",
      "WT07: 0.0\n",
      "WT08: 0.0\n",
      "WT09: 0.0\n",
      "WT10: 0.0\n",
      "WT11: 0.0\n",
      "WT13: 0.0\n",
      "WT14: 0.0\n",
      "WT16: 0.0\n",
      "WT18: 0.0\n",
      "TSUN: 0.0\n",
      "WT19: 0.0\n",
      "WT22: 0.0\n",
      "ACSH: 0.0\n",
      "MDEV: 1.796917741213375e-08\n",
      "DAEV: 1.9384073495767898e-08\n",
      "DAWM: 6.550768589264064e-07\n",
      "MDWM: 1.8340557550621575e-06\n",
      "DASF: 2.8658421332982403e-06\n",
      "MDSF: 2.230198366127509e-05\n",
      "WESF: 4.792322844308201e-05\n",
      "DAPR: 0.000361493342823275\n",
      "MDPR: 0.0010239591375674154\n",
      "ADPT: 0.001123792018748994\n",
      "FMTM: 0.0012638044784920054\n",
      "ASTP: 0.0014472217750699074\n",
      "RHMN: 0.0014599672910270384\n",
      "ASLP: 0.0015075731379648512\n",
      "RHMX: 0.0016223254783401398\n",
      "AWBT: 0.002225762355102353\n",
      "RHAV: 0.0024182546125888615\n",
      "WDFG: 0.003241405112120282\n",
      "WSF2: 0.003661813451163019\n",
      "WSFG: 0.0037357971830394277\n",
      "WSF5: 0.003965164011390282\n",
      "WDF2: 0.004009159301187329\n",
      "WDF5: 0.004230749655858599\n",
      "AWND: 0.007157029462290783\n",
      "MNPN: 0.007220720737543712\n",
      "PGTM: 0.007430125864413406\n",
      "WESD: 0.007561139340960549\n",
      "SNOW: 0.007847634525315233\n",
      "MXPN: 0.00856584331447554\n",
      "EVAP: 0.010365830985421426\n",
      "WDMV: 0.01161796265505858\n",
      "SNWD: 0.01802602677303745\n",
      "PRCP: 0.04135673249044761\n",
      "TOBS: 0.1189346988571379\n",
      "TAVG: 0.178644456387171\n",
      "TMIN: 0.24647869058268823\n",
      "TMAX: 0.29141924814145226\n"
     ]
    }
   ],
   "source": [
    "feature_importances = model.feature_importances_\n",
    "features = X.columns\n",
    "sorted_idx = np.argsort(feature_importances)\n",
    "\n",
    "print(\"Feature importances (sorted):\")\n",
    "for idx in sorted_idx:\n",
    "    print(f\"{features[idx]}: {feature_importances[idx]}\")\n"
   ]
  },
  {
   "cell_type": "markdown",
   "metadata": {},
   "source": [
    "## with all the features, with feature importance (finalised)"
   ]
  },
  {
   "cell_type": "code",
   "execution_count": 43,
   "metadata": {},
   "outputs": [],
   "source": [
    "weather_fire_merged_all= pd.read_csv(r'weather_fire_merged pivoted.csv')\n"
   ]
  },
  {
   "cell_type": "code",
   "execution_count": 74,
   "metadata": {},
   "outputs": [
    {
     "name": "stdout",
     "output_type": "stream",
     "text": [
      "Train class distribution:\n",
      " Fire_occur\n",
      "0    216052\n",
      "1    180640\n",
      "Name: count, dtype: int64\n",
      "Test class distribution:\n",
      " Fire_occur\n",
      "0    54013\n",
      "1    45160\n",
      "Name: count, dtype: int64\n",
      "🔥 Accuracy: 0.7777116755568552\n",
      "\n",
      "📊 Classification Report:\n",
      "               precision    recall  f1-score   support\n",
      "\n",
      "           0       0.81      0.78      0.79     54013\n",
      "           1       0.74      0.78      0.76     45160\n",
      "\n",
      "    accuracy                           0.78     99173\n",
      "   macro avg       0.78      0.78      0.78     99173\n",
      "weighted avg       0.78      0.78      0.78     99173\n",
      "\n",
      "\n",
      "🧩 Confusion Matrix:\n",
      " [[41976 12037]\n",
      " [10008 35152]]\n"
     ]
    }
   ],
   "source": [
    "import numpy as np\n",
    "import pandas as pd\n",
    "from sklearn.ensemble import RandomForestClassifier\n",
    "from sklearn.metrics import accuracy_score, classification_report, confusion_matrix\n",
    "from sklearn.model_selection import train_test_split\n",
    "\n",
    "# Ensure ALARM_DATE is in datetime format\n",
    "weather_fire_merged_all['ALARM_DATE'] = pd.to_datetime(weather_fire_merged_all['ALARM_DATE'])\n",
    "\n",
    "# Feature Engineering for Time Series Classification\n",
    "weather_fire_merged_all['month'] = weather_fire_merged_all['ALARM_DATE'].dt.month  # Capture seasonality\n",
    "weather_fire_merged_all['year'] = weather_fire_merged_all['ALARM_DATE'].dt.year    # Capture trend\n",
    "\n",
    "# Define Features and Target\n",
    "X = weather_fire_merged_all.loc[:, 'ACMH':'WT22']  # Select all columns from ACMH to WT22\n",
    "y = weather_fire_merged_all['Fire_occur']          # Target variable (binary)\n",
    "\n",
    "# Ensure `y` is numeric (in case it's not already)\n",
    "y = y.astype(int)  # 1 = Fire occurred, 0 = No Fire\n",
    "\n",
    "# Store ALARM_DATE separately for reference\n",
    "dates = weather_fire_merged_all['ALARM_DATE']\n",
    "\n",
    "# Split the data into train and test (stratified by 'Fire_occur' to keep class balance)\n",
    "X_train, X_test, y_train, y_test, train_dates, test_dates = train_test_split(\n",
    "    X, y, dates, test_size=0.2, random_state=42, stratify=y\n",
    ")\n",
    "\n",
    "# Check the class distribution in the training and testing sets\n",
    "print(\"Train class distribution:\\n\", y_train.value_counts())\n",
    "print(\"Test class distribution:\\n\", y_test.value_counts())\n",
    "\n",
    "# Define and Train the RandomForestClassifier model\n",
    "model = RandomForestClassifier(random_state=42, n_estimators=50, class_weight='balanced')\n",
    "model.fit(X_train, y_train)\n",
    "\n",
    "# Make Predictions\n",
    "y_pred = model.predict(X_test)\n",
    "\n",
    "# Evaluate the Classification Model\n",
    "print(\"🔥 Accuracy:\", accuracy_score(y_test, y_pred))\n",
    "print(\"\\n📊 Classification Report:\\n\", classification_report(y_test, y_pred))\n",
    "print(\"\\n🧩 Confusion Matrix:\\n\", confusion_matrix(y_test, y_pred))\n",
    "\n"
   ]
  },
  {
   "cell_type": "markdown",
   "metadata": {},
   "source": [
    "### OKAY on top of the prev code: lets try XGboost to see if it perform better"
   ]
  },
  {
   "cell_type": "code",
   "execution_count": 48,
   "metadata": {},
   "outputs": [
    {
     "name": "stdout",
     "output_type": "stream",
     "text": [
      "🔥 XGBoost Accuracy: 0.760327911830841\n"
     ]
    }
   ],
   "source": [
    "import xgboost as xgb\n",
    "model = xgb.XGBClassifier(random_state=42)  # Handle class imbalance\n",
    "model.fit(X_train, y_train)\n",
    "\n",
    "y_pred = model.predict(X_test)\n",
    "print(\"🔥 XGBoost Accuracy:\", accuracy_score(y_test, y_pred))\n",
    "\n"
   ]
  },
  {
   "cell_type": "markdown",
   "metadata": {
    "notebookRunGroups": {
     "groupValue": "2"
    }
   },
   "source": [
    "## improve accuracy by adding features \n",
    "\n",
    "okay it doesnt work (0.76, RFC has 0.77)\n",
    "scrap this"
   ]
  },
  {
   "cell_type": "code",
   "execution_count": 56,
   "metadata": {},
   "outputs": [],
   "source": [
    "# Create an interaction term between temperature (TAVG) and precipitation (PRCP)\n",
    "weather_fire_merged_all['temp_precip_interaction'] = weather_fire_merged_all['TAVG'] * weather_fire_merged_all['PRCP']\n",
    "\n"
   ]
  },
  {
   "cell_type": "markdown",
   "metadata": {},
   "source": [
    "### add distance between fire and weather stations\n",
    "scrap this"
   ]
  },
  {
   "cell_type": "code",
   "execution_count": 53,
   "metadata": {},
   "outputs": [],
   "source": [
    "coord_data = pd.read_csv(r'closest_df with fire weather coord .csv')\n",
    "weather_fire_merged_all['distance_to_forest'] = coord_data['distance']\n",
    "weather_fire_merged_all['month_sin'] = np.sin(2 * np.pi * weather_fire_merged['month'] / 12)\n",
    "weather_fire_merged_all['month_cos'] = np.cos(2 * np.pi * weather_fire_merged['month'] / 12)\n"
   ]
  }
 ],
 "metadata": {
  "kernelspec": {
   "display_name": "base",
   "language": "python",
   "name": "python3"
  },
  "language_info": {
   "codemirror_mode": {
    "name": "ipython",
    "version": 3
   },
   "file_extension": ".py",
   "mimetype": "text/x-python",
   "name": "python",
   "nbconvert_exporter": "python",
   "pygments_lexer": "ipython3",
   "version": "3.12.3"
  }
 },
 "nbformat": 4,
 "nbformat_minor": 2
}
