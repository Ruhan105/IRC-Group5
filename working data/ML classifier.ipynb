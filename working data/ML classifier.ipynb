{
 "cells": [
  {
   "cell_type": "markdown",
   "metadata": {},
   "source": [
    "## Classifier model \n",
    "(since linear regression doesnt seem to work when we only look at the weather)"
   ]
  },
  {
   "cell_type": "markdown",
   "metadata": {},
   "source": [
    "#### Load dataframe, sort to 1984-2023, change date column into date format"
   ]
  },
  {
   "cell_type": "code",
   "execution_count": null,
   "metadata": {},
   "outputs": [
    {
     "name": "stderr",
     "output_type": "stream",
     "text": [
      "C:\\Users\\natal\\AppData\\Local\\Temp\\ipykernel_35960\\737385975.py:7: UserWarning: Parsing dates in %d/%m/%Y format when dayfirst=False (the default) was specified. Pass `dayfirst=True` or specify a format to silence this warning.\n",
      "  fire['ALARM_DATE'] = pd.to_datetime(fire['ALARM_DATE'])\n"
     ]
    }
   ],
   "source": [
    "#import both dataframe (fire and weather), sort to 1984-2023\n",
    "import pandas as pd\n",
    "weather = pd.read_csv(r'weather_pivoted.csv')\n",
    "fire = pd.read_csv(r'fire data with 83 firestn.csv')\n",
    "\n",
    "\n",
    "weather['date']= pd.to_datetime(weather['date'])\n",
    "fire['ALARM_DATE'] = pd.to_datetime(fire['ALARM_DATE'])\n",
    "\n",
    "weather = weather.loc[(weather['date'] >= '1984-01-01') & (weather['date'] <= '2023-12-31')]\n",
    "\n",
    "\n",
    "#weather.set_index(['date'])\n",
    "#fire.set_index(['ALARM_DATE'])\n",
    "\n"
   ]
  },
  {
   "cell_type": "markdown",
   "metadata": {},
   "source": [
    "### Merge 2 dataframe and add a column to indicate fire occurence (1/0)"
   ]
  },
  {
   "cell_type": "code",
   "execution_count": null,
   "metadata": {},
   "outputs": [],
   "source": [
    "#merge dataframes\n",
    "\n",
    "weather_fire_merged = weather.merge(fire, left_on='date', right_on='ALARM_DATE', how='left')\n",
    "\n",
    "#adding a column to indicate whether there is a fire on the date\n",
    "weather_fire_merged['Fire_occur'] = weather_fire_merged['GIS_ACRES'].notna().astype(int)\n",
    "\n",
    "\n"
   ]
  },
  {
   "cell_type": "code",
   "execution_count": 28,
   "metadata": {},
   "outputs": [],
   "source": [
    "weather_fire_merged= pd.read_csv(r'weather_fire_merged pivoted.csv')\n",
    "a = weather_fire_merged.isnull().sum()\n",
    "weather_fire_merged = weather_fire_merged.drop(columns=weather_fire_merged.columns[weather_fire_merged.isnull().sum() > 400000])\n",
    "\n",
    "# Drop specified columns\n",
    "weather_fire_class = weather_fire_merged.drop(columns=['GIS_ACRES', 'Shape__Area', 'Shape__Length'])\n",
    "\n"
   ]
  },
  {
   "cell_type": "markdown",
   "metadata": {},
   "source": [
    "pd.merge on column is too slow, try making id and date index now"
   ]
  },
  {
   "cell_type": "markdown",
   "metadata": {},
   "source": [
    "### Classification model: Random forest classifier"
   ]
  },
  {
   "cell_type": "markdown",
   "metadata": {},
   "source": [
    "** have not done it so this is just a template: 260225**"
   ]
  },
  {
   "cell_type": "code",
   "execution_count": 29,
   "metadata": {},
   "outputs": [
    {
     "name": "stdout",
     "output_type": "stream",
     "text": [
      "🔥 Accuracy: 1.0\n",
      "\n",
      "📊 Classification Report:\n",
      "               precision    recall  f1-score   support\n",
      "\n",
      "           1       1.00      1.00      1.00     97333\n",
      "\n",
      "    accuracy                           1.00     97333\n",
      "   macro avg       1.00      1.00      1.00     97333\n",
      "weighted avg       1.00      1.00      1.00     97333\n",
      "\n",
      "\n",
      "🧩 Confusion Matrix:\n",
      " [[97333]]\n"
     ]
    },
    {
     "name": "stderr",
     "output_type": "stream",
     "text": [
      "c:\\Users\\natal\\anaconda3\\Lib\\site-packages\\sklearn\\metrics\\_classification.py:407: UserWarning: A single label was found in 'y_true' and 'y_pred'. For the confusion matrix to have the correct shape, use the 'labels' parameter to pass all known labels.\n",
      "  warnings.warn(\n"
     ]
    }
   ],
   "source": [
    "import numpy as np\n",
    "import pandas as pd\n",
    "from sklearn.ensemble import RandomForestClassifier\n",
    "from sklearn.metrics import accuracy_score, classification_report, confusion_matrix\n",
    "from sklearn.model_selection import train_test_split\n",
    "\n",
    "# Ensure ALARM_DATE is in datetime format\n",
    "weather_fire_merged['ALARM_DATE'] = pd.to_datetime(weather_fire_merged['ALARM_DATE'])\n",
    "\n",
    "# 🔹 Feature Engineering for Time Series Classification\n",
    "weather_fire_merged['month'] = weather_fire_merged['ALARM_DATE'].dt.month  # Capture seasonality\n",
    "weather_fire_merged['year'] = weather_fire_merged['ALARM_DATE'].dt.year    # Capture trend\n",
    "\n",
    "# 🔹 Define Features and Target\n",
    "X = weather_fire_merged.loc[:, 'PRCP':'TOBS']  # Select all columns from PRCP to TOBS\n",
    "X['month'] = weather_fire_merged['month']      # Add month as a feature\n",
    "y = weather_fire_merged['Fire_occur']          # Target variable (binary)\n",
    "\n",
    "# 🔹 Ensure `y` is numeric (in case it's not already)\n",
    "y = y.astype(int)  # 1 = Fire occurred, 0 = No Fire\n",
    "\n",
    "# 🔹 Split the data by location to ensure trends are captured per location\n",
    "locations = weather_fire_merged['weatherstn'].unique()\n",
    "\n",
    "X_train_list = []\n",
    "y_train_list = []\n",
    "X_test_list = []\n",
    "y_test_list = []\n",
    "\n",
    "# 🔹 Split data by location (NO RANDOM SPLIT)\n",
    "for loc in locations:\n",
    "    loc_data = weather_fire_merged[weather_fire_merged['weatherstn'] == loc]\n",
    "    \n",
    "    # 🔹 Use time-based train-test split\n",
    "    train_loc = loc_data[loc_data['year'] < 2015]  # Train on years before 2015\n",
    "    test_loc = loc_data[loc_data['year'] >= 2015]  # Test on 2015 and beyond\n",
    "    \n",
    "    X_train_list.append(train_loc.loc[:, 'PRCP':'TOBS'].assign(month=train_loc['month']))\n",
    "    y_train_list.append(train_loc['Fire_occur'])\n",
    "    \n",
    "    X_test_list.append(test_loc.loc[:, 'PRCP':'TOBS'].assign(month=test_loc['month']))\n",
    "    y_test_list.append(test_loc['Fire_occur'])\n",
    "\n",
    "# 🔹 Concatenate data for training and testing (location-specific)\n",
    "X_train = pd.concat(X_train_list)\n",
    "y_train = pd.concat(y_train_list)\n",
    "X_test = pd.concat(X_test_list)\n",
    "y_test = pd.concat(y_test_list)\n",
    "\n",
    "# 🔹 Define and Train the RandomForestClassifier model\n",
    "model = RandomForestClassifier(random_state=42, n_estimators=100, class_weight='balanced')\n",
    "model.fit(X_train, y_train)\n",
    "\n",
    "# 🔹 Make Predictions\n",
    "y_pred = model.predict(X_test)\n",
    "\n",
    "# 🔹 Evaluate the Classification Model\n",
    "print(\"🔥 Accuracy:\", accuracy_score(y_test, y_pred))\n",
    "print(\"\\n📊 Classification Report:\\n\", classification_report(y_test, y_pred))\n",
    "print(\"\\n🧩 Confusion Matrix:\\n\", confusion_matrix(y_test, y_pred))\n"
   ]
  },
  {
   "cell_type": "code",
   "execution_count": 31,
   "metadata": {},
   "outputs": [
    {
     "name": "stdout",
     "output_type": "stream",
     "text": [
      "Fire_occur\n",
      "0    270065\n",
      "1    225800\n",
      "Name: count, dtype: int64\n"
     ]
    }
   ],
   "source": [
    "print(weather_fire_merged['Fire_occur'].value_counts())\n",
    "\n"
   ]
  },
  {
   "cell_type": "code",
   "execution_count": 32,
   "metadata": {},
   "outputs": [
    {
     "name": "stdout",
     "output_type": "stream",
     "text": [
      "Train class distribution:\n",
      " Fire_occur\n",
      "0    216052\n",
      "1    180640\n",
      "Name: count, dtype: int64\n",
      "Test class distribution:\n",
      " Fire_occur\n",
      "0    54013\n",
      "1    45160\n",
      "Name: count, dtype: int64\n",
      "🔥 Accuracy: 1.0\n",
      "\n",
      "📊 Classification Report:\n",
      "               precision    recall  f1-score   support\n",
      "\n",
      "           0       1.00      1.00      1.00     54013\n",
      "           1       1.00      1.00      1.00     45160\n",
      "\n",
      "    accuracy                           1.00     99173\n",
      "   macro avg       1.00      1.00      1.00     99173\n",
      "weighted avg       1.00      1.00      1.00     99173\n",
      "\n",
      "\n",
      "🧩 Confusion Matrix:\n",
      " [[54013     0]\n",
      " [    0 45160]]\n"
     ]
    }
   ],
   "source": [
    "import numpy as np\n",
    "import pandas as pd\n",
    "from sklearn.ensemble import RandomForestClassifier\n",
    "from sklearn.metrics import accuracy_score, classification_report, confusion_matrix\n",
    "from sklearn.model_selection import train_test_split\n",
    "\n",
    "# Ensure ALARM_DATE is in datetime format\n",
    "weather_fire_merged['ALARM_DATE'] = pd.to_datetime(weather_fire_merged['ALARM_DATE'])\n",
    "\n",
    "# Feature Engineering for Time Series Classification\n",
    "weather_fire_merged['month'] = weather_fire_merged['ALARM_DATE'].dt.month  # Capture seasonality\n",
    "weather_fire_merged['year'] = weather_fire_merged['ALARM_DATE'].dt.year    # Capture trend\n",
    "\n",
    "# Define Features and Target\n",
    "X = weather_fire_merged.loc[:, 'PRCP':'TOBS']  # Select all columns from PRCP to TOBS\n",
    "X['month'] = weather_fire_merged['month']      # Add month as a feature\n",
    "y = weather_fire_merged['Fire_occur']          # Target variable (binary)\n",
    "\n",
    "# Ensure `y` is numeric (in case it's not already)\n",
    "y = y.astype(int)  # 1 = Fire occurred, 0 = No Fire\n",
    "\n",
    "# Split the data into train and test (stratified by 'Fire_occur' to keep class balance)\n",
    "X_train, X_test, y_train, y_test = train_test_split(\n",
    "    X, y, test_size=0.2, random_state=42, stratify=y\n",
    ")\n",
    "\n",
    "# Check the class distribution in the training and testing sets\n",
    "print(\"Train class distribution:\\n\", y_train.value_counts())\n",
    "print(\"Test class distribution:\\n\", y_test.value_counts())\n",
    "\n",
    "# Define and Train the RandomForestClassifier model\n",
    "model = RandomForestClassifier(random_state=42, n_estimators=100, class_weight='balanced')\n",
    "model.fit(X_train, y_train)\n",
    "\n",
    "# Make Predictions\n",
    "y_pred = model.predict(X_test)\n",
    "\n",
    "# Evaluate the Classification Model\n",
    "print(\"🔥 Accuracy:\", accuracy_score(y_test, y_pred))\n",
    "print(\"\\n📊 Classification Report:\\n\", classification_report(y_test, y_pred))\n",
    "print(\"\\n🧩 Confusion Matrix:\\n\", confusion_matrix(y_test, y_pred))\n"
   ]
  },
  {
   "cell_type": "code",
   "execution_count": 33,
   "metadata": {},
   "outputs": [
    {
     "name": "stdout",
     "output_type": "stream",
     "text": [
      "Cross-validated accuracy scores: [1. 1. 1. 1. 1.]\n",
      "Average cross-validated accuracy: 1.0\n"
     ]
    }
   ],
   "source": [
    "from sklearn.model_selection import cross_val_score\n",
    "\n",
    "# Perform cross-validation\n",
    "cv_scores = cross_val_score(model, X, y, cv=5, scoring='accuracy')\n",
    "print(\"Cross-validated accuracy scores:\", cv_scores)\n",
    "print(\"Average cross-validated accuracy:\", cv_scores.mean())\n"
   ]
  },
  {
   "cell_type": "markdown",
   "metadata": {},
   "source": [
    "### now that looks too good to be true: we look at the feature importance to see which one is the dominating factor"
   ]
  },
  {
   "cell_type": "markdown",
   "metadata": {},
   "source": [
    "### Month(seasonality) contribute the most: try dropping month and see if the model can still perform well"
   ]
  },
  {
   "cell_type": "markdown",
   "metadata": {},
   "source": [
    "Seasonal encoding: You can use sinusoidal encoding (sine and cosine transformations) for month and day features to capture periodicity without allowing the raw values to dominate. This allows the model to interpret months as a continuous cycle."
   ]
  },
  {
   "cell_type": "code",
   "execution_count": 40,
   "metadata": {},
   "outputs": [
    {
     "name": "stdout",
     "output_type": "stream",
     "text": [
      "Train class distribution:\n",
      " Fire_occur\n",
      "0    216052\n",
      "1    180640\n",
      "Name: count, dtype: int64\n",
      "Test class distribution:\n",
      " Fire_occur\n",
      "0    54013\n",
      "1    45160\n",
      "Name: count, dtype: int64\n",
      "Accuracy without month feature: 0.7683744567573836\n",
      "🔥 Accuracy: 0.7683744567573836\n",
      "\n",
      "📊 Classification Report:\n",
      "               precision    recall  f1-score   support\n",
      "\n",
      "           0       0.80      0.76      0.78     54013\n",
      "           1       0.73      0.78      0.75     45160\n",
      "\n",
      "    accuracy                           0.77     99173\n",
      "   macro avg       0.77      0.77      0.77     99173\n",
      "weighted avg       0.77      0.77      0.77     99173\n",
      "\n",
      "\n",
      "🧩 Confusion Matrix:\n",
      " [[41131 12882]\n",
      " [10089 35071]]\n"
     ]
    }
   ],
   "source": [
    "import numpy as np\n",
    "import pandas as pd\n",
    "from sklearn.ensemble import RandomForestClassifier\n",
    "from sklearn.metrics import accuracy_score, classification_report, confusion_matrix\n",
    "from sklearn.model_selection import train_test_split\n",
    "\n",
    "# Ensure ALARM_DATE is in datetime format\n",
    "weather_fire_merged['ALARM_DATE'] = pd.to_datetime(weather_fire_merged['ALARM_DATE'])\n",
    "\n",
    "# Feature Engineering for Time Series Classification\n",
    "#weather_fire_merged['month'] = weather_fire_merged['ALARM_DATE'].dt.month  # Capture seasonality\n",
    "#weather_fire_merged['year'] = weather_fire_merged['ALARM_DATE'].dt.year    # Capture trend\n",
    "weather_fire_merged['month_sin'] = np.sin(2 * np.pi * weather_fire_merged['month'] / 12)\n",
    "weather_fire_merged['month_cos'] = np.cos(2 * np.pi * weather_fire_merged['month'] / 12)\n",
    "\n",
    "# Define Features and Target\n",
    "X = weather_fire_merged.loc[:, 'PRCP':'TOBS']  # Select all columns from PRCP to TOBS\n",
    "#X = X.assign(month_sin=weather_fire_merged['month_sin'], month_cos=weather_fire_merged['month_cos'])\n",
    "y = weather_fire_merged['Fire_occur']          # Target variable (binary)\n",
    "\n",
    "# Ensure `y` is numeric (in case it's not already)\n",
    "y = y.astype(int)  # 1 = Fire occurred, 0 = No Fire\n",
    "\n",
    "# Split the data into train and test (stratified by 'Fire_occur' to keep class balance)\n",
    "X_train, X_test, y_train, y_test = train_test_split(\n",
    "    X, y, test_size=0.2, random_state=42, stratify=y\n",
    ")\n",
    "\n",
    "# Check the class distribution in the training and testing sets\n",
    "print(\"Train class distribution:\\n\", y_train.value_counts())\n",
    "print(\"Test class distribution:\\n\", y_test.value_counts())\n",
    "\n",
    "# Define and Train the RandomForestClassifier model\n",
    "model = RandomForestClassifier(random_state=42, n_estimators=100, class_weight='balanced')\n",
    "\n",
    "\n",
    "\n",
    "\n",
    "# Train the model with the modified data (without the 'month' column)\n",
    "model.fit(X_train, y_train)\n",
    "\n",
    "# Make predictions on the test set\n",
    "y_pred = model.predict(X_test)\n",
    "\n",
    "# Evaluate accuracy without the 'month' feature\n",
    "print(\"Accuracy without month feature:\", accuracy_score(y_test, y_pred))\n",
    "# Evaluate the Classification Model\n",
    "print(\"🔥 Accuracy:\", accuracy_score(y_test, y_pred))\n",
    "print(\"\\n📊 Classification Report:\\n\", classification_report(y_test, y_pred))\n",
    "print(\"\\n🧩 Confusion Matrix:\\n\", confusion_matrix(y_test, y_pred))\n"
   ]
  },
  {
   "cell_type": "code",
   "execution_count": 41,
   "metadata": {},
   "outputs": [
    {
     "name": "stdout",
     "output_type": "stream",
     "text": [
      "Test Accuracy: 0.7683744567573836\n"
     ]
    }
   ],
   "source": [
    "# Test set evaluation\n",
    "y_pred = model.predict(X_test)\n",
    "print(\"Test Accuracy:\", accuracy_score(y_test, y_pred))\n"
   ]
  },
  {
   "cell_type": "code",
   "execution_count": 42,
   "metadata": {},
   "outputs": [
    {
     "name": "stdout",
     "output_type": "stream",
     "text": [
      "Feature importances (sorted):\n",
      "SNOW: 0.008416253274974257\n",
      "SNWD: 0.020757238418943492\n",
      "PRCP: 0.045731719645994866\n",
      "TOBS: 0.13087257514941222\n",
      "TAVG: 0.16771873591095848\n",
      "TMIN: 0.2649587467413492\n",
      "TMAX: 0.36154473085836747\n"
     ]
    }
   ],
   "source": [
    "feature_importances = model.feature_importances_\n",
    "features = X.columns\n",
    "sorted_idx = np.argsort(feature_importances)\n",
    "\n",
    "print(\"Feature importances (sorted):\")\n",
    "for idx in sorted_idx:\n",
    "    print(f\"{features[idx]}: {feature_importances[idx]}\")\n"
   ]
  }
 ],
 "metadata": {
  "kernelspec": {
   "display_name": "base",
   "language": "python",
   "name": "python3"
  },
  "language_info": {
   "codemirror_mode": {
    "name": "ipython",
    "version": 3
   },
   "file_extension": ".py",
   "mimetype": "text/x-python",
   "name": "python",
   "nbconvert_exporter": "python",
   "pygments_lexer": "ipython3",
   "version": "3.12.3"
  }
 },
 "nbformat": 4,
 "nbformat_minor": 2
}
