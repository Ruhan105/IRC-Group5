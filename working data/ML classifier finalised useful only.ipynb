{
 "cells": [
  {
   "cell_type": "markdown",
   "metadata": {},
   "source": [
    "## Classifier model \n",
    "(since linear regression doesnt seem to work when we only look at the weather)"
   ]
  },
  {
   "cell_type": "markdown",
   "metadata": {},
   "source": [
    "#### Load dataframe, sort to 1984-2023, change date column into date format"
   ]
  },
  {
   "cell_type": "code",
   "execution_count": 9,
   "metadata": {},
   "outputs": [
    {
     "name": "stderr",
     "output_type": "stream",
     "text": [
      "C:\\Users\\natal\\AppData\\Local\\Temp\\ipykernel_10128\\1101544925.py:8: UserWarning: Parsing dates in %d/%m/%Y format when dayfirst=False (the default) was specified. Pass `dayfirst=True` or specify a format to silence this warning.\n",
      "  fire['ALARM_DATE'] = pd.to_datetime(fire['ALARM_DATE'])\n"
     ]
    }
   ],
   "source": [
    "#import both dataframe (fire and weather), sort to 1984-2023\n",
    "import pandas as pd\n",
    "weather = pd.read_csv(r'weather_pivoted.csv')\n",
    "fire = pd.read_csv(r'fire data with 83 firestn.csv')\n",
    "\n",
    "\n",
    "weather['date']= pd.to_datetime(weather['date'])\n",
    "fire['ALARM_DATE'] = pd.to_datetime(fire['ALARM_DATE'])\n",
    "\n",
    "weather = weather.loc[(weather['date'] >= '1984-01-01') & (weather['date'] <= '2023-12-31')]\n",
    "\n",
    "\n",
    "#weather.set_index(['date'])\n",
    "#fire.set_index(['ALARM_DATE'])\n",
    "\n"
   ]
  },
  {
   "cell_type": "markdown",
   "metadata": {},
   "source": [
    "### Merge 2 dataframe and add a column to indicate fire occurence (1/0)"
   ]
  },
  {
   "cell_type": "code",
   "execution_count": 10,
   "metadata": {},
   "outputs": [],
   "source": [
    "#merge dataframes\n",
    "\n",
    "weather_fire_merged = weather.merge(fire, left_on='date', right_on='ALARM_DATE', how='left')\n",
    "\n",
    "#adding a column to indicate whether there is a fire on the date\n",
    "weather_fire_merged['Fire_occur'] = weather_fire_merged['GIS_ACRES'].notna().astype(int)\n",
    "\n",
    "\n"
   ]
  },
  {
   "cell_type": "code",
   "execution_count": 11,
   "metadata": {},
   "outputs": [],
   "source": [
    "weather_fire_merged= pd.read_csv(r'weather_fire_merged pivoted.csv')\n",
    "a = weather_fire_merged.isnull().sum()\n",
    "weather_fire_merged = weather_fire_merged.drop(columns=weather_fire_merged.columns[weather_fire_merged.isnull().sum() > 400000])\n",
    "\n",
    "# Drop specified columns\n",
    "weather_fire_class = weather_fire_merged.drop(columns=['GIS_ACRES', 'Shape__Area', 'Shape__Length'])\n",
    "\n"
   ]
  },
  {
   "cell_type": "markdown",
   "metadata": {},
   "source": [
    "pd.merge on column is too slow, try making id and date index now"
   ]
  },
  {
   "cell_type": "markdown",
   "metadata": {},
   "source": [
    "### Classification model: Random forest classifier"
   ]
  },
  {
   "cell_type": "code",
   "execution_count": 12,
   "metadata": {},
   "outputs": [
    {
     "name": "stdout",
     "output_type": "stream",
     "text": [
      "Fire_occur\n",
      "0    270065\n",
      "1    225800\n",
      "Name: count, dtype: int64\n"
     ]
    }
   ],
   "source": [
    "print(weather_fire_merged['Fire_occur'].value_counts())\n",
    "\n"
   ]
  },
  {
   "cell_type": "markdown",
   "metadata": {},
   "source": [
    "## with all the features, with feature importance (finalised)"
   ]
  },
  {
   "cell_type": "code",
   "execution_count": 14,
   "metadata": {},
   "outputs": [],
   "source": [
    "weather_fire_merged_all= pd.read_csv(r'weather_fire_merged pivoted.csv')\n"
   ]
  },
  {
   "cell_type": "code",
   "execution_count": 15,
   "metadata": {},
   "outputs": [
    {
     "name": "stdout",
     "output_type": "stream",
     "text": [
      "Train class distribution:\n",
      " Fire_occur\n",
      "0    216052\n",
      "1    180640\n",
      "Name: count, dtype: int64\n",
      "Test class distribution:\n",
      " Fire_occur\n",
      "0    54013\n",
      "1    45160\n",
      "Name: count, dtype: int64\n",
      "🔥 Accuracy: 0.7777116755568552\n",
      "\n",
      "📊 Classification Report:\n",
      "               precision    recall  f1-score   support\n",
      "\n",
      "           0       0.81      0.78      0.79     54013\n",
      "           1       0.74      0.78      0.76     45160\n",
      "\n",
      "    accuracy                           0.78     99173\n",
      "   macro avg       0.78      0.78      0.78     99173\n",
      "weighted avg       0.78      0.78      0.78     99173\n",
      "\n",
      "\n",
      "🧩 Confusion Matrix:\n",
      " [[41976 12037]\n",
      " [10008 35152]]\n"
     ]
    }
   ],
   "source": [
    "import numpy as np\n",
    "import pandas as pd\n",
    "from sklearn.ensemble import RandomForestClassifier\n",
    "from sklearn.metrics import accuracy_score, classification_report, confusion_matrix\n",
    "from sklearn.model_selection import train_test_split\n",
    "\n",
    "# Ensure ALARM_DATE is in datetime format\n",
    "weather_fire_merged_all['ALARM_DATE'] = pd.to_datetime(weather_fire_merged_all['ALARM_DATE'])\n",
    "\n",
    "# Feature Engineering for Time Series Classification\n",
    "weather_fire_merged_all['month'] = weather_fire_merged_all['ALARM_DATE'].dt.month  # Capture seasonality\n",
    "weather_fire_merged_all['year'] = weather_fire_merged_all['ALARM_DATE'].dt.year    # Capture trend\n",
    "\n",
    "# Define Features and Target\n",
    "X = weather_fire_merged_all.loc[:, 'ACMH':'WT22']  # Select all columns from ACMH to WT22\n",
    "y = weather_fire_merged_all['Fire_occur']          # Target variable (binary)\n",
    "\n",
    "# Ensure `y` is numeric (in case it's not already)\n",
    "y = y.astype(int)  # 1 = Fire occurred, 0 = No Fire\n",
    "\n",
    "# Store ALARM_DATE separately for reference\n",
    "dates = weather_fire_merged_all['ALARM_DATE']\n",
    "\n",
    "# Split the data into train and test (stratified by 'Fire_occur' to keep class balance)\n",
    "X_train, X_test, y_train, y_test, train_dates, test_dates = train_test_split(\n",
    "    X, y, dates, test_size=0.2, random_state=42, stratify=y\n",
    ")\n",
    "\n",
    "# Check the class distribution in the training and testing sets\n",
    "print(\"Train class distribution:\\n\", y_train.value_counts())\n",
    "print(\"Test class distribution:\\n\", y_test.value_counts())\n",
    "\n",
    "# Define and Train the RandomForestClassifier model\n",
    "model = RandomForestClassifier(random_state=42, n_estimators=50, class_weight='balanced')\n",
    "model.fit(X_train, y_train)\n",
    "\n",
    "# Make Predictions\n",
    "y_pred = model.predict(X_test)\n",
    "\n",
    "# Evaluate the Classification Model\n",
    "print(\"🔥 Accuracy:\", accuracy_score(y_test, y_pred))\n",
    "print(\"\\n📊 Classification Report:\\n\", classification_report(y_test, y_pred))\n",
    "print(\"\\n🧩 Confusion Matrix:\\n\", confusion_matrix(y_test, y_pred))\n",
    "\n"
   ]
  },
  {
   "cell_type": "markdown",
   "metadata": {},
   "source": [
    "### Feature importance"
   ]
  },
  {
   "cell_type": "code",
   "execution_count": 13,
   "metadata": {},
   "outputs": [
    {
     "ename": "NameError",
     "evalue": "name 'model' is not defined",
     "output_type": "error",
     "traceback": [
      "\u001b[1;31m---------------------------------------------------------------------------\u001b[0m",
      "\u001b[1;31mNameError\u001b[0m                                 Traceback (most recent call last)",
      "Cell \u001b[1;32mIn[13], line 1\u001b[0m\n\u001b[1;32m----> 1\u001b[0m feature_importances \u001b[38;5;241m=\u001b[39m model\u001b[38;5;241m.\u001b[39mfeature_importances_\n\u001b[0;32m      2\u001b[0m features \u001b[38;5;241m=\u001b[39m X\u001b[38;5;241m.\u001b[39mcolumns\n\u001b[0;32m      3\u001b[0m sorted_idx \u001b[38;5;241m=\u001b[39m np\u001b[38;5;241m.\u001b[39margsort(feature_importances)\n",
      "\u001b[1;31mNameError\u001b[0m: name 'model' is not defined"
     ]
    }
   ],
   "source": [
    "feature_importances = model.feature_importances_\n",
    "features = X.columns\n",
    "sorted_idx = np.argsort(feature_importances)\n",
    "\n",
    "print(\"Feature importances (sorted):\")\n",
    "for idx in sorted_idx:\n",
    "    print(f\"{features[idx]}: {feature_importances[idx]}\")\n"
   ]
  },
  {
   "cell_type": "markdown",
   "metadata": {},
   "source": [
    "### getting probability from classifier instead of binary yes or no"
   ]
  },
  {
   "cell_type": "code",
   "execution_count": null,
   "metadata": {},
   "outputs": [
    {
     "ename": "NameError",
     "evalue": "name 'model' is not defined",
     "output_type": "error",
     "traceback": [
      "\u001b[1;31m---------------------------------------------------------------------------\u001b[0m",
      "\u001b[1;31mNameError\u001b[0m                                 Traceback (most recent call last)",
      "Cell \u001b[1;32mIn[7], line 2\u001b[0m\n\u001b[0;32m      1\u001b[0m \u001b[38;5;66;03m# Get predicted probabilities\u001b[39;00m\n\u001b[1;32m----> 2\u001b[0m y_probs \u001b[38;5;241m=\u001b[39m model\u001b[38;5;241m.\u001b[39mpredict_proba(X_test)\n\u001b[0;32m      4\u001b[0m \u001b[38;5;66;03m# Extract probability of fire occurrence (class 1)\u001b[39;00m\n\u001b[0;32m      5\u001b[0m fire_probs \u001b[38;5;241m=\u001b[39m y_probs[:, \u001b[38;5;241m1\u001b[39m]  \u001b[38;5;66;03m# Column 1 corresponds to fire occurrence\u001b[39;00m\n",
      "\u001b[1;31mNameError\u001b[0m: name 'model' is not defined"
     ]
    }
   ],
   "source": [
    "# Get predicted probabilities\n",
    "y_probs = model.predict_proba(X_test)\n",
    "\n",
    "# Extract probability of fire occurrence (class 1)\n",
    "fire_probs = y_probs[:, 1]  # Column 1 corresponds to fire occurrence\n",
    "\n",
    "# Show the first few probabilities\n",
    "print(\"\\n🔥 Fire occurrence probabilities (first 10 predictions):\")\n",
    "print(fire_probs[:10])\n"
   ]
  },
  {
   "cell_type": "markdown",
   "metadata": {},
   "source": [
    "### making a map from coordinate, fire yes or no"
   ]
  }
 ],
 "metadata": {
  "kernelspec": {
   "display_name": "base",
   "language": "python",
   "name": "python3"
  },
  "language_info": {
   "codemirror_mode": {
    "name": "ipython",
    "version": 3
   },
   "file_extension": ".py",
   "mimetype": "text/x-python",
   "name": "python",
   "nbconvert_exporter": "python",
   "pygments_lexer": "ipython3",
   "version": "3.12.3"
  }
 },
 "nbformat": 4,
 "nbformat_minor": 2
}
