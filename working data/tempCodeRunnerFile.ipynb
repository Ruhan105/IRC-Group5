# Create a final DataFrame with Date and Fire Probability
fire_prob_date = X_test_df[['Date', 'Fire_Prob']].sort_values (by=['Date'])

# Show the first few rows
print(fire_prob_date.head())

# Extract and print the first 10 fire probabilities
fire_probs = fire_prob_date['Fire_Prob'].values
print("\n🔥 Fire occurrence probabilities (first 10 predictions):")
print(fire_probs[:10])
