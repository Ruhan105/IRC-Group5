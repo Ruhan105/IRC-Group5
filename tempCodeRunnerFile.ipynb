# Re-merge the original 'weatherstn' column back into the dataframe (for use in splitting)
pivoted_weather_ready['weatherstn'] = weatherstn_column
