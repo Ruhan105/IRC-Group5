{
 "cells": [
  {
   "cell_type": "markdown",
   "metadata": {},
   "source": [
    "### Step 1 – Load the Dataset\n"
   ]
  },
  {
   "cell_type": "code",
   "execution_count": 3,
   "metadata": {},
   "outputs": [],
   "source": [
    "import pandas as pd\n",
    "area_fire= pd.read_csv(r'working data\\CA (cleaned+unit id) wildfire area data (1984 to 2023) .csv')\n",
    "#weather_fire= pd.read_csv(r'CA_Weather (cleaned up) 1984-2023.csv')"
   ]
  },
  {
   "cell_type": "markdown",
   "metadata": {},
   "source": [
    "Cleaning up the data, dropping extra column\n"
   ]
  },
  {
   "cell_type": "code",
   "execution_count": 4,
   "metadata": {},
   "outputs": [
    {
     "name": "stdout",
     "output_type": "stream",
     "text": [
      "no. of data, no. of features: (22261, 8)\n",
      "<class 'pandas.core.frame.DataFrame'>\n",
      "RangeIndex: 22261 entries, 0 to 22260\n",
      "Data columns (total 8 columns):\n",
      " #   Column         Non-Null Count  Dtype  \n",
      "---  ------         --------------  -----  \n",
      " 0   _id            11200 non-null  float64\n",
      " 1   ALARM_DATE     10618 non-null  object \n",
      " 2   CONT_DATE      8737 non-null   object \n",
      " 3   UNIT_ID        22195 non-null  object \n",
      " 4   GIS_ACRES      11200 non-null  float64\n",
      " 5   Shape__Area    11200 non-null  float64\n",
      " 6   Shape__Length  11200 non-null  float64\n",
      " 7   YEAR_          11123 non-null  float64\n",
      "dtypes: float64(5), object(3)\n",
      "memory usage: 1.4+ MB\n",
      "data info: None\n"
     ]
    }
   ],
   "source": [
    "area_fire.head()\n",
    "\n",
    "#check the number of features and amount of entries\n",
    "print('no. of data, no. of features:', area_fire.shape)\n",
    "#check the value and type of each column(features)\n",
    "print('data info:', area_fire.info())\n",
    "\n",
    "area_fire= area_fire.dropna()\n"
   ]
  },
  {
   "cell_type": "markdown",
   "metadata": {},
   "source": [
    "tabula: convert pdf table into pandas df (failed coz it became a weird list, multiple values in one rows?)\n",
    "tried using online pdf table to excel and import as xlsx"
   ]
  },
  {
   "cell_type": "markdown",
   "metadata": {},
   "source": [
    "import numpy as np\n",
    "#print(np.where(city['MACS-ID']== unitid)) -- not work due to differnt length\n",
    "\n",
    "# Find values in unitid but not in city['MACS-ID']\n",
    "missing_unitids = list(set(unitid) - set(city['MACS-ID']))\n",
    "\n",
    "print(missing_unitids)"
   ]
  },
  {
   "cell_type": "code",
   "execution_count": null,
   "metadata": {},
   "outputs": [
    {
     "data": {
      "text/plain": [
       "0                    Amador - El Dorado CAL FIRE\n",
       "1                        Angeles National Forest\n",
       "2      Bakersfield District - BLM (retired code)\n",
       "4                        Beale Air Force Base FD\n",
       "5          Bitter Creek National Wildlife Refuge\n",
       "                         ...                    \n",
       "108                Tuolumne - Calaveras CAL FIRE\n",
       "109                           Vallejo Fire Dept.\n",
       "110                    Vandenberg Air Force Base\n",
       "111                               Ventura County\n",
       "113                       Yosemite National Park\n",
       "Name: Display Value, Length: 103, dtype: object"
      ]
     },
     "execution_count": 11,
     "metadata": {},
     "output_type": "execute_result"
    }
   ],
   "source": [
    "#all the station mentioned in area_fire\n",
    "unitid = list(area_fire[\"UNIT_ID\"].unique())\n",
    "\n",
    "agentcity= pd.read_excel(r'agency+unit id.xlsx',sheet_name='Table 5')\n",
    "\n",
    "city_mentioned= agentcity[agentcity['Stored Value'].isin(unitid)]\n",
    "#converting the mentioned fire station code to name\n",
    "agent_name= city_mentioned['Display Value']\n",
    "agent_name #all the mentioned fire station NAME\n",
    "\n"
   ]
  },
  {
   "cell_type": "markdown",
   "metadata": {},
   "source": [
    "ca fire_agency-list is from \n",
    "https://firescope.caloes.ca.gov/Governance/Group%20Documents/MACS-ID-Agency-List.pdf"
   ]
  },
  {
   "cell_type": "code",
   "execution_count": null,
   "metadata": {},
   "outputs": [
    {
     "data": {
      "text/plain": [
       "8               Camino\n",
       "24             Arcadia\n",
       "54      San Bernardino\n",
       "55      San Bernardino\n",
       "61            Monterey\n",
       "             ...      \n",
       "932            Visalia\n",
       "953            Vallejo\n",
       "955          Camarillo\n",
       "967               Weed\n",
       "1004          Yosemite\n",
       "Name: CITY, Length: 89, dtype: object"
      ]
     },
     "execution_count": 26,
     "metadata": {},
     "output_type": "execute_result"
    }
   ],
   "source": [
    "##testing out if the fire station mentioned matches '\"ca fire-Agency-List.xlsx\" since it has city information\n",
    "cafireagencywithcity= pd.read_excel(r'ca fire-Agency-List.xlsx')\n",
    "cafireagencywithcity=cafireagencywithcity.dropna()\n",
    "relevantmasc_id= cafireagencywithcity[cafireagencywithcity['MACS-ID'].isin(unitid)]\n",
    "city_withfire= relevantmasc_id[['MACS-ID', 'CITY']]\n",
    "city_withfire.head()\n",
    "#the list of city we are gonna use to match with the weather stations\n",
    "citymatchtoweather= relevantmasc_id['CITY']\n",
    "citymatchtoweather\n"
   ]
  },
  {
   "cell_type": "markdown",
   "metadata": {},
   "source": [
    "for weather data: we have to align the weather station to the fire stations \n",
    "with their corresponding city\n"
   ]
  },
  {
   "cell_type": "code",
   "execution_count": 28,
   "metadata": {},
   "outputs": [
    {
     "data": {
      "application/vnd.microsoft.datawrangler.viewer.v0+json": {
       "columns": [
        {
         "name": "index",
         "rawType": "int64",
         "type": "integer"
        },
        {
         "name": "ID   ",
         "rawType": "object",
         "type": "string"
        },
        {
         "name": "LATITUDE",
         "rawType": "float64",
         "type": "float"
        },
        {
         "name": "LONGITUDE",
         "rawType": "float64",
         "type": "float"
        },
        {
         "name": "ELEVATION",
         "rawType": "float64",
         "type": "float"
        },
        {
         "name": "STATE",
         "rawType": "object",
         "type": "string"
        },
        {
         "name": "NAME",
         "rawType": "object",
         "type": "string"
        },
        {
         "name": "WMO ID",
         "rawType": "object",
         "type": "string"
        }
       ],
       "conversionMethod": "pd.DataFrame",
       "ref": "8766c09b-bcbe-4172-93f2-615feb23735c",
       "rows": [
        [
         "0",
         "USC00040006",
         "39.0333",
         "-122.4333",
         "601.1",
         "CA",
         "ABBOTT MINE                   ",
         "     "
        ],
        [
         "1",
         "USC00040010",
         "38.2178",
         "-121.2014",
         "26.5",
         "CA",
         "ACAMPO 5NE                    ",
         "     "
        ],
        [
         "2",
         "USR0000CACT",
         "34.4458",
         "-118.2",
         "792.5",
         "CA",
         "ACTON CALIFORNIA              ",
         "     "
        ],
        [
         "3",
         "USC00040014",
         "34.4939",
         "-118.2714",
         "863.5",
         "CA",
         "ACTON ESCONDIDO FC261         ",
         "     "
        ],
        [
         "4",
         "USC00040024",
         "34.5833",
         "-117.4167",
         "869.0",
         "CA",
         "ADELANTO                      ",
         "     "
        ]
       ],
       "shape": {
        "columns": 7,
        "rows": 5
       }
      },
      "text/html": [
       "<div>\n",
       "<style scoped>\n",
       "    .dataframe tbody tr th:only-of-type {\n",
       "        vertical-align: middle;\n",
       "    }\n",
       "\n",
       "    .dataframe tbody tr th {\n",
       "        vertical-align: top;\n",
       "    }\n",
       "\n",
       "    .dataframe thead th {\n",
       "        text-align: right;\n",
       "    }\n",
       "</style>\n",
       "<table border=\"1\" class=\"dataframe\">\n",
       "  <thead>\n",
       "    <tr style=\"text-align: right;\">\n",
       "      <th></th>\n",
       "      <th>ID</th>\n",
       "      <th>LATITUDE</th>\n",
       "      <th>LONGITUDE</th>\n",
       "      <th>ELEVATION</th>\n",
       "      <th>STATE</th>\n",
       "      <th>NAME</th>\n",
       "      <th>WMO ID</th>\n",
       "    </tr>\n",
       "  </thead>\n",
       "  <tbody>\n",
       "    <tr>\n",
       "      <th>0</th>\n",
       "      <td>USC00040006</td>\n",
       "      <td>39.0333</td>\n",
       "      <td>-122.4333</td>\n",
       "      <td>601.1</td>\n",
       "      <td>CA</td>\n",
       "      <td>ABBOTT MINE</td>\n",
       "      <td></td>\n",
       "    </tr>\n",
       "    <tr>\n",
       "      <th>1</th>\n",
       "      <td>USC00040010</td>\n",
       "      <td>38.2178</td>\n",
       "      <td>-121.2014</td>\n",
       "      <td>26.5</td>\n",
       "      <td>CA</td>\n",
       "      <td>ACAMPO 5NE</td>\n",
       "      <td></td>\n",
       "    </tr>\n",
       "    <tr>\n",
       "      <th>2</th>\n",
       "      <td>USR0000CACT</td>\n",
       "      <td>34.4458</td>\n",
       "      <td>-118.2000</td>\n",
       "      <td>792.5</td>\n",
       "      <td>CA</td>\n",
       "      <td>ACTON CALIFORNIA</td>\n",
       "      <td></td>\n",
       "    </tr>\n",
       "    <tr>\n",
       "      <th>3</th>\n",
       "      <td>USC00040014</td>\n",
       "      <td>34.4939</td>\n",
       "      <td>-118.2714</td>\n",
       "      <td>863.5</td>\n",
       "      <td>CA</td>\n",
       "      <td>ACTON ESCONDIDO FC261</td>\n",
       "      <td></td>\n",
       "    </tr>\n",
       "    <tr>\n",
       "      <th>4</th>\n",
       "      <td>USC00040024</td>\n",
       "      <td>34.5833</td>\n",
       "      <td>-117.4167</td>\n",
       "      <td>869.0</td>\n",
       "      <td>CA</td>\n",
       "      <td>ADELANTO</td>\n",
       "      <td></td>\n",
       "    </tr>\n",
       "  </tbody>\n",
       "</table>\n",
       "</div>"
      ],
      "text/plain": [
       "         ID     LATITUDE  LONGITUDE  ELEVATION STATE  \\\n",
       "0  USC00040006   39.0333  -122.4333      601.1    CA   \n",
       "1  USC00040010   38.2178  -121.2014       26.5    CA   \n",
       "2  USR0000CACT   34.4458  -118.2000      792.5    CA   \n",
       "3  USC00040014   34.4939  -118.2714      863.5    CA   \n",
       "4  USC00040024   34.5833  -117.4167      869.0    CA   \n",
       "\n",
       "                             NAME WMO ID  \n",
       "0  ABBOTT MINE                            \n",
       "1  ACAMPO 5NE                             \n",
       "2  ACTON CALIFORNIA                       \n",
       "3  ACTON ESCONDIDO FC261                  \n",
       "4  ADELANTO                               "
      ]
     },
     "execution_count": 28,
     "metadata": {},
     "output_type": "execute_result"
    }
   ],
   "source": [
    "allweather_stn = pd.read_excel(r'ghcnd-stations-CA only.xlsx')\n",
    "allweather_stn = allweather_stn.drop(columns=['GSN FLAG', 'HCN/CRN FLAG'])\n",
    "allweather_stn.head()"
   ]
  },
  {
   "cell_type": "code",
   "execution_count": 34,
   "metadata": {},
   "outputs": [
    {
     "data": {
      "application/vnd.microsoft.datawrangler.viewer.v0+json": {
       "columns": [
        {
         "name": "index",
         "rawType": "int64",
         "type": "integer"
        },
        {
         "name": "ID   ",
         "rawType": "object",
         "type": "string"
        },
        {
         "name": "LATITUDE",
         "rawType": "float64",
         "type": "float"
        },
        {
         "name": "LONGITUDE",
         "rawType": "float64",
         "type": "float"
        },
        {
         "name": "ELEVATION",
         "rawType": "float64",
         "type": "float"
        },
        {
         "name": "STATE",
         "rawType": "object",
         "type": "string"
        },
        {
         "name": "NAME",
         "rawType": "object",
         "type": "string"
        },
        {
         "name": "WMO ID",
         "rawType": "object",
         "type": "unknown"
        }
       ],
       "conversionMethod": "pd.DataFrame",
       "ref": "8fa46bf8-ef9b-4696-ac8d-b42e15365c48",
       "rows": [
        [
         "39",
         "USC00040161",
         "41.4903",
         "-120.5439",
         "1332.9",
         "CA",
         "ALTURAS                       ",
         "     "
        ],
        [
         "40",
         "USC00040162",
         "41.5147",
         "-120.3642",
         "1617.6",
         "CA",
         "ALTURAS 9 ENE                 ",
         "     "
        ],
        [
         "41",
         "USW00094299",
         "41.4836",
         "-120.5614",
         "1335.9",
         "CA",
         "ALTURAS MUNI AP               ",
         "     "
        ],
        [
         "84",
         "US1CALA0021",
         "34.1617",
         "-118.0285",
         "198.7",
         "CA",
         "ARCADIA 2.1 NNE               ",
         "     "
        ],
        [
         "98",
         "USW00024283",
         "40.9783",
         "-124.1047",
         "64.3",
         "CA",
         "ARCATA EUREKA AP              ",
         "     "
        ],
        [
         "127",
         "USC00040383",
         "38.9072",
         "-121.0839",
         "393.8",
         "CA",
         "AUBURN                        ",
         "     "
        ],
        [
         "128",
         "US1CAPC0055",
         "38.8939",
         "-121.0793",
         "384.4",
         "CA",
         "AUBURN 0.2 NW                 ",
         "     "
        ],
        [
         "129",
         "US1CAPC0054",
         "38.9075",
         "-121.0576",
         "405.1",
         "CA",
         "AUBURN 1.5 NE                 ",
         "     "
        ],
        [
         "130",
         "US1CAPC0012",
         "38.9362",
         "-121.0679",
         "465.7",
         "CA",
         "AUBURN 3.1 N                  ",
         "     "
        ],
        [
         "131",
         "US1CAPC0037",
         "38.9602",
         "-121.0923",
         "440.4",
         "CA",
         "AUBURN 4.8 N                  ",
         "     "
        ],
        [
         "132",
         "US1CAPC0032",
         "38.9629",
         "-121.1153",
         "376.7",
         "CA",
         "AUBURN 5.3 NNW                ",
         "     "
        ],
        [
         "133",
         "USC00040385",
         "38.8833",
         "-121.0667",
         "387.1",
         "CA",
         "AUBURN DAM PROJECT            ",
         "     "
        ],
        [
         "145",
         "USC00040439",
         "35.3833",
         "-119.0167",
         "121.9",
         "CA",
         "BAKERSFIELD                   ",
         "     "
        ],
        [
         "146",
         "USC00040444",
         "35.4186",
         "-119.0508",
         "143.3",
         "CA",
         "BAKERSFIELD 5 NW              ",
         "     "
        ],
        [
         "147",
         "US1CAKN0022",
         "35.3311",
         "-119.1078",
         "112.8",
         "CA",
         "BAKERSFIELD 6.1 WSW           ",
         "     "
        ],
        [
         "148",
         "USW00023155",
         "35.4342",
         "-119.0553",
         "149.4",
         "CA",
         "BAKERSFIELD AP                ",
         "72384"
        ],
        [
         "158",
         "USC00040519",
         "34.9",
         "-117.0333",
         "659.0",
         "CA",
         "BARSTOW                       ",
         "     "
        ],
        [
         "159",
         "USC00040521",
         "34.8928",
         "-117.0219",
         "676.7",
         "CA",
         "BARSTOW                       ",
         "     "
        ],
        [
         "160",
         "US1CASR0023",
         "34.8667",
         "-117.0592",
         "795.2",
         "CA",
         "BARSTOW 0.8 SSE               ",
         "     "
        ],
        [
         "161",
         "US1CASR0025",
         "34.88",
         "-117.118",
         "679.4",
         "CA",
         "BARSTOW 3.0 W                 ",
         "     "
        ],
        [
         "162",
         "US1CASR0035",
         "34.9237",
         "-117.0177",
         "661.4",
         "CA",
         "BARSTOW 4.2 NE                ",
         "     "
        ],
        [
         "163",
         "USW00023161",
         "34.8536",
         "-116.7869",
         "584.9",
         "CA",
         "BARSTOW-DAGGETT AP            ",
         "     "
        ],
        [
         "251",
         "USC00040823",
         "37.3708",
         "-118.3672",
         "1251.5",
         "CA",
         "BISHOP                        ",
         "     "
        ],
        [
         "252",
         "US1CAIN0001",
         "37.3626",
         "-118.3883",
         "1261.9",
         "CA",
         "BISHOP 0.6 SE                 ",
         "     "
        ],
        [
         "253",
         "US1CAIN0013",
         "37.3786",
         "-118.4178",
         "1281.1",
         "CA",
         "BISHOP 1.4 WNW                ",
         "     "
        ],
        [
         "254",
         "US1CAIN0007",
         "37.3854",
         "-118.415",
         "1275.0",
         "CA",
         "BISHOP 1.6 NW                 ",
         "     "
        ],
        [
         "255",
         "US1CAIN0004",
         "37.3878",
         "-118.4141",
         "1274.4",
         "CA",
         "BISHOP 1.7 NW                 ",
         "     "
        ],
        [
         "256",
         "US1CAIN0012",
         "37.3474",
         "-118.4153",
         "1286.6",
         "CA",
         "BISHOP 1.7 SW                 ",
         "     "
        ],
        [
         "257",
         "US1CAIN0010",
         "37.3844",
         "-118.4228",
         "1282.0",
         "CA",
         "BISHOP 1.8 NW                 ",
         "     "
        ],
        [
         "258",
         "US1CAIN0002",
         "37.3227",
         "-118.5404",
         "1829.4",
         "CA",
         "BISHOP 8.5 WSW                ",
         "     "
        ],
        [
         "259",
         "US1CAIN0005",
         "37.4115",
         "-118.5474",
         "1382.9",
         "CA",
         "BISHOP 8.8 WNW                ",
         "     "
        ],
        [
         "260",
         "USW00023157",
         "37.3711",
         "-118.3589",
         "1252.7",
         "CA",
         "BISHOP AP                     ",
         "72480"
        ],
        [
         "261",
         "USC00040819",
         "37.2481",
         "-118.5814",
         "2485.3",
         "CA",
         "BISHOP CREEK INTAKE 2         ",
         "     "
        ],
        [
         "262",
         "USC00040824",
         "37.3667",
         "-118.7167",
         "2863.9",
         "CA",
         "BISHOP UNION CARBIDE          ",
         "     "
        ],
        [
         "388",
         "US1CAVT0019",
         "34.227",
         "-119.035",
         "50.3",
         "CA",
         "CAMARILLO 0.4 NW              ",
         "     "
        ],
        [
         "389",
         "US1CAVT0016",
         "34.2311",
         "-119.0299",
         "54.3",
         "CA",
         "CAMARILLO 0.6 N               ",
         "     "
        ],
        [
         "390",
         "US1CAVT0036",
         "34.2392",
         "-119.0033",
         "75.9",
         "CA",
         "CAMARILLO 1.9 NE              ",
         "     "
        ],
        [
         "391",
         "US1CAVT0012",
         "34.2275",
         "-119.0715",
         "34.7",
         "CA",
         "CAMARILLO 2.4 W               ",
         "     "
        ],
        [
         "392",
         "US1CAVT0035",
         "34.2435",
         "-118.9903",
         "110.9",
         "CA",
         "CAMARILLO 2.7 ENE             ",
         "     "
        ],
        [
         "393",
         "USW00023136",
         "34.2114",
         "-119.0875",
         "21.6",
         "CA",
         "CAMARILLO AP                  ",
         "     "
        ],
        [
         "400",
         "US1CAED0036",
         "38.7547",
         "-120.6712",
         "942.1",
         "CA",
         "CAMINO 1.2 N                  ",
         "     "
        ],
        [
         "401",
         "US1CAED0017",
         "38.7338",
         "-120.711",
         "887.0",
         "CA",
         "CAMINO 2.0 WSW                ",
         "     "
        ],
        [
         "402",
         "US1CAED0012",
         "38.7186",
         "-120.634",
         "947.3",
         "CA",
         "CAMINO 2.6 ESE                ",
         "     "
        ],
        [
         "409",
         "USW00003154",
         "33.3042",
         "-117.355",
         "21.3",
         "CA",
         "CAMP PENDLETON MCAS           ",
         "     "
        ],
        [
         "410",
         "USC00041444",
         "35.3333",
         "-120.6833",
         "189.0",
         "CA",
         "CAMP SAN LUIS OBISPO          ",
         "     "
        ],
        [
         "494",
         "US1CABT0019",
         "39.7525",
         "-121.8028",
         "78.3",
         "CA",
         "CHICO 0.2 ESE                 ",
         "     "
        ],
        [
         "495",
         "US1CABT0023",
         "39.7469",
         "-121.8201",
         "69.5",
         "CA",
         "CHICO 0.8 SW                  ",
         "     "
        ],
        [
         "496",
         "US1CABT0011",
         "39.7387",
         "-121.7984",
         "75.6",
         "CA",
         "CHICO 1.1 SSE                 ",
         "     "
        ],
        [
         "497",
         "US1CABT0007",
         "39.7697",
         "-121.8138",
         "76.5",
         "CA",
         "CHICO 1.2 NNW                 ",
         "     "
        ],
        [
         "498",
         "US1CABT0015",
         "39.7549",
         "-121.7823",
         "110.3",
         "CA",
         "CHICO 1.3 E                   ",
         "     "
        ]
       ],
       "shape": {
        "columns": 7,
        "rows": 413
       }
      },
      "text/html": [
       "<div>\n",
       "<style scoped>\n",
       "    .dataframe tbody tr th:only-of-type {\n",
       "        vertical-align: middle;\n",
       "    }\n",
       "\n",
       "    .dataframe tbody tr th {\n",
       "        vertical-align: top;\n",
       "    }\n",
       "\n",
       "    .dataframe thead th {\n",
       "        text-align: right;\n",
       "    }\n",
       "</style>\n",
       "<table border=\"1\" class=\"dataframe\">\n",
       "  <thead>\n",
       "    <tr style=\"text-align: right;\">\n",
       "      <th></th>\n",
       "      <th>ID</th>\n",
       "      <th>LATITUDE</th>\n",
       "      <th>LONGITUDE</th>\n",
       "      <th>ELEVATION</th>\n",
       "      <th>STATE</th>\n",
       "      <th>NAME</th>\n",
       "      <th>WMO ID</th>\n",
       "    </tr>\n",
       "  </thead>\n",
       "  <tbody>\n",
       "    <tr>\n",
       "      <th>39</th>\n",
       "      <td>USC00040161</td>\n",
       "      <td>41.4903</td>\n",
       "      <td>-120.5439</td>\n",
       "      <td>1332.9</td>\n",
       "      <td>CA</td>\n",
       "      <td>ALTURAS</td>\n",
       "      <td></td>\n",
       "    </tr>\n",
       "    <tr>\n",
       "      <th>40</th>\n",
       "      <td>USC00040162</td>\n",
       "      <td>41.5147</td>\n",
       "      <td>-120.3642</td>\n",
       "      <td>1617.6</td>\n",
       "      <td>CA</td>\n",
       "      <td>ALTURAS 9 ENE</td>\n",
       "      <td></td>\n",
       "    </tr>\n",
       "    <tr>\n",
       "      <th>41</th>\n",
       "      <td>USW00094299</td>\n",
       "      <td>41.4836</td>\n",
       "      <td>-120.5614</td>\n",
       "      <td>1335.9</td>\n",
       "      <td>CA</td>\n",
       "      <td>ALTURAS MUNI AP</td>\n",
       "      <td></td>\n",
       "    </tr>\n",
       "    <tr>\n",
       "      <th>84</th>\n",
       "      <td>US1CALA0021</td>\n",
       "      <td>34.1617</td>\n",
       "      <td>-118.0285</td>\n",
       "      <td>198.7</td>\n",
       "      <td>CA</td>\n",
       "      <td>ARCADIA 2.1 NNE</td>\n",
       "      <td></td>\n",
       "    </tr>\n",
       "    <tr>\n",
       "      <th>98</th>\n",
       "      <td>USW00024283</td>\n",
       "      <td>40.9783</td>\n",
       "      <td>-124.1047</td>\n",
       "      <td>64.3</td>\n",
       "      <td>CA</td>\n",
       "      <td>ARCATA EUREKA AP</td>\n",
       "      <td></td>\n",
       "    </tr>\n",
       "    <tr>\n",
       "      <th>...</th>\n",
       "      <td>...</td>\n",
       "      <td>...</td>\n",
       "      <td>...</td>\n",
       "      <td>...</td>\n",
       "      <td>...</td>\n",
       "      <td>...</td>\n",
       "      <td>...</td>\n",
       "    </tr>\n",
       "    <tr>\n",
       "      <th>3122</th>\n",
       "      <td>USW00053150</td>\n",
       "      <td>37.7592</td>\n",
       "      <td>-119.8208</td>\n",
       "      <td>2017.8</td>\n",
       "      <td>CA</td>\n",
       "      <td>YOSEMITE VILLAGE 12 W</td>\n",
       "      <td></td>\n",
       "    </tr>\n",
       "    <tr>\n",
       "      <th>3124</th>\n",
       "      <td>USC00049866</td>\n",
       "      <td>41.7025</td>\n",
       "      <td>-122.6417</td>\n",
       "      <td>826.6</td>\n",
       "      <td>CA</td>\n",
       "      <td>YREKA</td>\n",
       "      <td></td>\n",
       "    </tr>\n",
       "    <tr>\n",
       "      <th>3125</th>\n",
       "      <td>US1CASK0005</td>\n",
       "      <td>41.7326</td>\n",
       "      <td>-122.6495</td>\n",
       "      <td>820.5</td>\n",
       "      <td>CA</td>\n",
       "      <td>YREKA 0.9 WNW</td>\n",
       "      <td></td>\n",
       "    </tr>\n",
       "    <tr>\n",
       "      <th>3126</th>\n",
       "      <td>US1CASK0002</td>\n",
       "      <td>41.6651</td>\n",
       "      <td>-122.6208</td>\n",
       "      <td>895.2</td>\n",
       "      <td>CA</td>\n",
       "      <td>YREKA 4.5 S</td>\n",
       "      <td></td>\n",
       "    </tr>\n",
       "    <tr>\n",
       "      <th>3127</th>\n",
       "      <td>US1CASK0030</td>\n",
       "      <td>41.6326</td>\n",
       "      <td>-122.5818</td>\n",
       "      <td>897.3</td>\n",
       "      <td>CA</td>\n",
       "      <td>YREKA 7.1 SSE</td>\n",
       "      <td></td>\n",
       "    </tr>\n",
       "  </tbody>\n",
       "</table>\n",
       "<p>413 rows × 7 columns</p>\n",
       "</div>"
      ],
      "text/plain": [
       "            ID     LATITUDE  LONGITUDE  ELEVATION STATE  \\\n",
       "39    USC00040161   41.4903  -120.5439     1332.9    CA   \n",
       "40    USC00040162   41.5147  -120.3642     1617.6    CA   \n",
       "41    USW00094299   41.4836  -120.5614     1335.9    CA   \n",
       "84    US1CALA0021   34.1617  -118.0285      198.7    CA   \n",
       "98    USW00024283   40.9783  -124.1047       64.3    CA   \n",
       "...           ...       ...        ...        ...   ...   \n",
       "3122  USW00053150   37.7592  -119.8208     2017.8    CA   \n",
       "3124  USC00049866   41.7025  -122.6417      826.6    CA   \n",
       "3125  US1CASK0005   41.7326  -122.6495      820.5    CA   \n",
       "3126  US1CASK0002   41.6651  -122.6208      895.2    CA   \n",
       "3127  US1CASK0030   41.6326  -122.5818      897.3    CA   \n",
       "\n",
       "                                NAME WMO ID  \n",
       "39    ALTURAS                                \n",
       "40    ALTURAS 9 ENE                          \n",
       "41    ALTURAS MUNI AP                        \n",
       "84    ARCADIA 2.1 NNE                        \n",
       "98    ARCATA EUREKA AP                       \n",
       "...                              ...    ...  \n",
       "3122  YOSEMITE VILLAGE 12 W                  \n",
       "3124  YREKA                                  \n",
       "3125  YREKA 0.9 WNW                          \n",
       "3126  YREKA 4.5 S                            \n",
       "3127  YREKA 7.1 SSE                          \n",
       "\n",
       "[413 rows x 7 columns]"
      ]
     },
     "execution_count": 34,
     "metadata": {},
     "output_type": "execute_result"
    }
   ],
   "source": [
    "#matching the list of city to the weather stations to get their weather station id\n",
    "\n",
    "weather_stnreq = allweather_stn[allweather_stn['NAME'].apply(lambda x: any(city.lower() in x.lower() for city in citymatchtoweather))]\n",
    "weather_stnreq"
   ]
  },
  {
   "cell_type": "code",
   "execution_count": 7,
   "metadata": {},
   "outputs": [],
   "source": [
    "area_fire=area_fire.drop(['CONT_DATE'],axis=1)\n"
   ]
  },
  {
   "cell_type": "code",
   "execution_count": 8,
   "metadata": {},
   "outputs": [
    {
     "ename": "NameError",
     "evalue": "name 'df' is not defined",
     "output_type": "error",
     "traceback": [
      "\u001b[1;31m---------------------------------------------------------------------------\u001b[0m",
      "\u001b[1;31mNameError\u001b[0m                                 Traceback (most recent call last)",
      "Cell \u001b[1;32mIn[8], line 2\u001b[0m\n\u001b[0;32m      1\u001b[0m \u001b[38;5;66;03m# Join and drop unmatched values\u001b[39;00m\n\u001b[1;32m----> 2\u001b[0m df \u001b[38;5;241m=\u001b[39m df\u001b[38;5;241m.\u001b[39mjoin(scores, how\u001b[38;5;241m=\u001b[39m\u001b[38;5;124m'\u001b[39m\u001b[38;5;124minner\u001b[39m\u001b[38;5;124m'\u001b[39m)  \u001b[38;5;66;03m# 'inner' keeps only matching rows\u001b[39;00m\n\u001b[0;32m      4\u001b[0m \u001b[38;5;28mprint\u001b[39m(df)\n",
      "\u001b[1;31mNameError\u001b[0m: name 'df' is not defined"
     ]
    }
   ],
   "source": [
    "\n",
    "# Join and drop unmatched values\n",
    "df = df.join(scores, how='inner')  # 'inner' keeps only matching rows\n",
    "\n",
    "print(df)"
   ]
  },
  {
   "cell_type": "code",
   "execution_count": null,
   "metadata": {},
   "outputs": [
    {
     "data": {
      "text/html": [
       "<div>\n",
       "<style scoped>\n",
       "    .dataframe tbody tr th:only-of-type {\n",
       "        vertical-align: middle;\n",
       "    }\n",
       "\n",
       "    .dataframe tbody tr th {\n",
       "        vertical-align: top;\n",
       "    }\n",
       "\n",
       "    .dataframe thead th {\n",
       "        text-align: right;\n",
       "    }\n",
       "</style>\n",
       "<table border=\"1\" class=\"dataframe\">\n",
       "  <thead>\n",
       "    <tr style=\"text-align: right;\">\n",
       "      <th></th>\n",
       "      <th>FIRE_START_DAY</th>\n",
       "      <th>PRECIPITATION</th>\n",
       "      <th>MAX_TEMP</th>\n",
       "      <th>MIN_TEMP</th>\n",
       "      <th>AVG_WIND_SPEED</th>\n",
       "      <th>TEMP_RANGE</th>\n",
       "      <th>WIND_TEMP_RATIO</th>\n",
       "      <th>LAGGED_PRECIPITATION</th>\n",
       "      <th>LAGGED_AVG_WIND_SPEED</th>\n",
       "      <th>SEASON</th>\n",
       "      <th>DAY_OF_YEAR</th>\n",
       "    </tr>\n",
       "    <tr>\n",
       "      <th>DATE</th>\n",
       "      <th></th>\n",
       "      <th></th>\n",
       "      <th></th>\n",
       "      <th></th>\n",
       "      <th></th>\n",
       "      <th></th>\n",
       "      <th></th>\n",
       "      <th></th>\n",
       "      <th></th>\n",
       "      <th></th>\n",
       "      <th></th>\n",
       "    </tr>\n",
       "  </thead>\n",
       "  <tbody>\n",
       "    <tr>\n",
       "      <th>31/12/2023</th>\n",
       "      <td>False</td>\n",
       "      <td>0.00</td>\n",
       "      <td>60</td>\n",
       "      <td>51</td>\n",
       "      <td>4.92</td>\n",
       "      <td>9</td>\n",
       "      <td>0.082000</td>\n",
       "      <td>0.62</td>\n",
       "      <td>5.558571</td>\n",
       "      <td>Winter</td>\n",
       "      <td>365</td>\n",
       "    </tr>\n",
       "    <tr>\n",
       "      <th>30/12/2023</th>\n",
       "      <td>False</td>\n",
       "      <td>0.62</td>\n",
       "      <td>62</td>\n",
       "      <td>54</td>\n",
       "      <td>8.50</td>\n",
       "      <td>8</td>\n",
       "      <td>0.137097</td>\n",
       "      <td>0.62</td>\n",
       "      <td>5.558571</td>\n",
       "      <td>Winter</td>\n",
       "      <td>364</td>\n",
       "    </tr>\n",
       "    <tr>\n",
       "      <th>29/12/2023</th>\n",
       "      <td>False</td>\n",
       "      <td>0.00</td>\n",
       "      <td>65</td>\n",
       "      <td>52</td>\n",
       "      <td>3.80</td>\n",
       "      <td>13</td>\n",
       "      <td>0.058462</td>\n",
       "      <td>0.00</td>\n",
       "      <td>5.175714</td>\n",
       "      <td>Winter</td>\n",
       "      <td>363</td>\n",
       "    </tr>\n",
       "    <tr>\n",
       "      <th>28/12/2023</th>\n",
       "      <td>False</td>\n",
       "      <td>0.00</td>\n",
       "      <td>64</td>\n",
       "      <td>50</td>\n",
       "      <td>5.59</td>\n",
       "      <td>14</td>\n",
       "      <td>0.087344</td>\n",
       "      <td>0.50</td>\n",
       "      <td>5.782857</td>\n",
       "      <td>Winter</td>\n",
       "      <td>362</td>\n",
       "    </tr>\n",
       "    <tr>\n",
       "      <th>27/12/2023</th>\n",
       "      <td>False</td>\n",
       "      <td>0.00</td>\n",
       "      <td>62</td>\n",
       "      <td>52</td>\n",
       "      <td>5.59</td>\n",
       "      <td>10</td>\n",
       "      <td>0.090161</td>\n",
       "      <td>1.83</td>\n",
       "      <td>6.198571</td>\n",
       "      <td>Winter</td>\n",
       "      <td>361</td>\n",
       "    </tr>\n",
       "    <tr>\n",
       "      <th>...</th>\n",
       "      <td>...</td>\n",
       "      <td>...</td>\n",
       "      <td>...</td>\n",
       "      <td>...</td>\n",
       "      <td>...</td>\n",
       "      <td>...</td>\n",
       "      <td>...</td>\n",
       "      <td>...</td>\n",
       "      <td>...</td>\n",
       "      <td>...</td>\n",
       "      <td>...</td>\n",
       "    </tr>\n",
       "    <tr>\n",
       "      <th>5/1/1984</th>\n",
       "      <td>False</td>\n",
       "      <td>0.00</td>\n",
       "      <td>74</td>\n",
       "      <td>49</td>\n",
       "      <td>5.14</td>\n",
       "      <td>25</td>\n",
       "      <td>0.069459</td>\n",
       "      <td>0.00</td>\n",
       "      <td>5.100000</td>\n",
       "      <td>Winter</td>\n",
       "      <td>5</td>\n",
       "    </tr>\n",
       "    <tr>\n",
       "      <th>4/1/1984</th>\n",
       "      <td>False</td>\n",
       "      <td>0.00</td>\n",
       "      <td>76</td>\n",
       "      <td>45</td>\n",
       "      <td>4.70</td>\n",
       "      <td>31</td>\n",
       "      <td>0.061842</td>\n",
       "      <td>0.00</td>\n",
       "      <td>5.090000</td>\n",
       "      <td>Winter</td>\n",
       "      <td>4</td>\n",
       "    </tr>\n",
       "    <tr>\n",
       "      <th>3/1/1984</th>\n",
       "      <td>False</td>\n",
       "      <td>0.00</td>\n",
       "      <td>70</td>\n",
       "      <td>47</td>\n",
       "      <td>5.37</td>\n",
       "      <td>23</td>\n",
       "      <td>0.076714</td>\n",
       "      <td>0.00</td>\n",
       "      <td>5.220000</td>\n",
       "      <td>Winter</td>\n",
       "      <td>3</td>\n",
       "    </tr>\n",
       "    <tr>\n",
       "      <th>2/1/1984</th>\n",
       "      <td>False</td>\n",
       "      <td>0.00</td>\n",
       "      <td>71</td>\n",
       "      <td>46</td>\n",
       "      <td>5.59</td>\n",
       "      <td>25</td>\n",
       "      <td>0.078732</td>\n",
       "      <td>0.00</td>\n",
       "      <td>5.145000</td>\n",
       "      <td>Winter</td>\n",
       "      <td>2</td>\n",
       "    </tr>\n",
       "    <tr>\n",
       "      <th>1/1/1984</th>\n",
       "      <td>False</td>\n",
       "      <td>0.00</td>\n",
       "      <td>79</td>\n",
       "      <td>51</td>\n",
       "      <td>4.70</td>\n",
       "      <td>28</td>\n",
       "      <td>0.059494</td>\n",
       "      <td>0.00</td>\n",
       "      <td>4.700000</td>\n",
       "      <td>Winter</td>\n",
       "      <td>1</td>\n",
       "    </tr>\n",
       "  </tbody>\n",
       "</table>\n",
       "<p>14610 rows × 11 columns</p>\n",
       "</div>"
      ],
      "text/plain": [
       "            FIRE_START_DAY  PRECIPITATION  MAX_TEMP  MIN_TEMP  AVG_WIND_SPEED  \\\n",
       "DATE                                                                            \n",
       "31/12/2023           False           0.00        60        51            4.92   \n",
       "30/12/2023           False           0.62        62        54            8.50   \n",
       "29/12/2023           False           0.00        65        52            3.80   \n",
       "28/12/2023           False           0.00        64        50            5.59   \n",
       "27/12/2023           False           0.00        62        52            5.59   \n",
       "...                    ...            ...       ...       ...             ...   \n",
       "5/1/1984             False           0.00        74        49            5.14   \n",
       "4/1/1984             False           0.00        76        45            4.70   \n",
       "3/1/1984             False           0.00        70        47            5.37   \n",
       "2/1/1984             False           0.00        71        46            5.59   \n",
       "1/1/1984             False           0.00        79        51            4.70   \n",
       "\n",
       "            TEMP_RANGE  WIND_TEMP_RATIO  LAGGED_PRECIPITATION  \\\n",
       "DATE                                                            \n",
       "31/12/2023           9         0.082000                  0.62   \n",
       "30/12/2023           8         0.137097                  0.62   \n",
       "29/12/2023          13         0.058462                  0.00   \n",
       "28/12/2023          14         0.087344                  0.50   \n",
       "27/12/2023          10         0.090161                  1.83   \n",
       "...                ...              ...                   ...   \n",
       "5/1/1984            25         0.069459                  0.00   \n",
       "4/1/1984            31         0.061842                  0.00   \n",
       "3/1/1984            23         0.076714                  0.00   \n",
       "2/1/1984            25         0.078732                  0.00   \n",
       "1/1/1984            28         0.059494                  0.00   \n",
       "\n",
       "            LAGGED_AVG_WIND_SPEED  SEASON  DAY_OF_YEAR  \n",
       "DATE                                                    \n",
       "31/12/2023               5.558571  Winter          365  \n",
       "30/12/2023               5.558571  Winter          364  \n",
       "29/12/2023               5.175714  Winter          363  \n",
       "28/12/2023               5.782857  Winter          362  \n",
       "27/12/2023               6.198571  Winter          361  \n",
       "...                           ...     ...          ...  \n",
       "5/1/1984                 5.100000  Winter            5  \n",
       "4/1/1984                 5.090000  Winter            4  \n",
       "3/1/1984                 5.220000  Winter            3  \n",
       "2/1/1984                 5.145000  Winter            2  \n",
       "1/1/1984                 4.700000  Winter            1  \n",
       "\n",
       "[14610 rows x 11 columns]"
      ]
     },
     "execution_count": 21,
     "metadata": {},
     "output_type": "execute_result"
    }
   ],
   "source": [
    "area_date=area_fire.iloc[:, 0:4]\n",
    "area_date.set_index(['ALARM_DATE'])\n",
    "weather_fire.set_index(['DATE'])\n"
   ]
  },
  {
   "cell_type": "markdown",
   "metadata": {},
   "source": [
    "### Step 2 – Preprocess the Dataset\n",
    " \n",
    " The features are all on different scales. To bring them all to a common scale, we’ll use the **StandardScaler** that transforms the features to have zero mean and unit variance:"
   ]
  },
  {
   "cell_type": "markdown",
   "metadata": {},
   "source": [
    "##### Thoughts\n",
    "run a PCA to see which top 2-3 factors are the most crucial?"
   ]
  },
  {
   "cell_type": "code",
   "execution_count": null,
   "metadata": {},
   "outputs": [
    {
     "ename": "NameError",
     "evalue": "name 'ca_fire' is not defined",
     "output_type": "error",
     "traceback": [
      "\u001b[0;31m---------------------------------------------------------------------------\u001b[0m",
      "\u001b[0;31mNameError\u001b[0m                                 Traceback (most recent call last)",
      "Cell \u001b[0;32mIn[4], line 6\u001b[0m\n\u001b[1;32m      4\u001b[0m features \u001b[38;5;241m=\u001b[39m [\u001b[38;5;124m'\u001b[39m\u001b[38;5;124msepal length\u001b[39m\u001b[38;5;124m'\u001b[39m, \u001b[38;5;124m'\u001b[39m\u001b[38;5;124msepal width\u001b[39m\u001b[38;5;124m'\u001b[39m, \u001b[38;5;124m'\u001b[39m\u001b[38;5;124mpetal length\u001b[39m\u001b[38;5;124m'\u001b[39m, \u001b[38;5;124m'\u001b[39m\u001b[38;5;124mpetal width\u001b[39m\u001b[38;5;124m'\u001b[39m]\n\u001b[1;32m      5\u001b[0m std_scaler \u001b[38;5;241m=\u001b[39m StandardScaler()\n\u001b[0;32m----> 6\u001b[0m scaled_cafire \u001b[38;5;241m=\u001b[39m std_scaler\u001b[38;5;241m.\u001b[39mfit_transform(ca_fire)\n",
      "\u001b[0;31mNameError\u001b[0m: name 'ca_fire' is not defined"
     ]
    }
   ],
   "source": [
    "import sklearn \n",
    "from sklearn.preprocessing import StandardScaler\n",
    "#separate features and\n",
    "features = ['sepal length', 'sepal width', 'petal length', 'petal width']\n",
    "std_scaler = StandardScaler()\n",
    "scaled_cafire = std_scaler.fit_transform(ca_fire)"
   ]
  },
  {
   "cell_type": "code",
   "execution_count": null,
   "metadata": {},
   "outputs": [],
   "source": [
    "import numpy as np\n",
    "from sklearn.model_selection import train_test_split"
   ]
  }
 ],
 "metadata": {
  "kernelspec": {
   "display_name": "base",
   "language": "python",
   "name": "python3"
  },
  "language_info": {
   "codemirror_mode": {
    "name": "ipython",
    "version": 3
   },
   "file_extension": ".py",
   "mimetype": "text/x-python",
   "name": "python",
   "nbconvert_exporter": "python",
   "pygments_lexer": "ipython3",
   "version": "3.12.4"
  }
 },
 "nbformat": 4,
 "nbformat_minor": 2
}
