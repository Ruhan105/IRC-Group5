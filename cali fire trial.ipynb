{
 "cells": [
  {
   "cell_type": "markdown",
   "metadata": {},
   "source": [
    "### Step 1 – Load the Dataset\n"
   ]
  },
  {
   "cell_type": "code",
   "execution_count": 2,
   "metadata": {},
   "outputs": [],
   "source": [
    "import pandas as pd\n",
    "area_fire= pd.read_csv(r'CA (cleaned+unit id) wildfire area data (1984 to 2023) .csv')\n",
    "weather_fire= pd.read_csv(r'CA_Weather (cleaned up) 1984-2023.csv')"
   ]
  },
  {
   "cell_type": "markdown",
   "metadata": {},
   "source": [
    "Cleaning up the data, dropping extra column\n"
   ]
  },
  {
   "cell_type": "code",
   "execution_count": 10,
   "metadata": {},
   "outputs": [
    {
     "name": "stdout",
     "output_type": "stream",
     "text": [
      "no. of data, no. of features: (22261, 8)\n",
      "<class 'pandas.core.frame.DataFrame'>\n",
      "RangeIndex: 22261 entries, 0 to 22260\n",
      "Data columns (total 8 columns):\n",
      " #   Column         Non-Null Count  Dtype  \n",
      "---  ------         --------------  -----  \n",
      " 0   _id            11200 non-null  float64\n",
      " 1   ALARM_DATE     10618 non-null  object \n",
      " 2   CONT_DATE      8737 non-null   object \n",
      " 3   UNIT_ID        22195 non-null  object \n",
      " 4   GIS_ACRES      11200 non-null  float64\n",
      " 5   Shape__Area    11200 non-null  float64\n",
      " 6   Shape__Length  11200 non-null  float64\n",
      " 7   YEAR_          11123 non-null  float64\n",
      "dtypes: float64(5), object(3)\n",
      "memory usage: 1.4+ MB\n",
      "data info: None\n"
     ]
    }
   ],
   "source": [
    "area_fire.head()\n",
    "\n",
    "#check the number of features and amount of entries\n",
    "print('no. of data, no. of features:', area_fire.shape)\n",
    "#check the value and type of each column(features)\n",
    "print('data info:', area_fire.info())\n",
    "\n",
    "area_fire= area_fire.dropna()\n"
   ]
  },
  {
   "cell_type": "markdown",
   "metadata": {},
   "source": [
    "tabula: convert pdf table into pandas df (failed coz it became a weird list, multiple values in one rows?)\n",
    "tried using online pdf table to excel and import as xlsx"
   ]
  },
  {
   "cell_type": "markdown",
   "metadata": {},
   "source": [
    "import numpy as np\n",
    "#print(np.where(city['MACS-ID']== unitid)) -- not work due to differnt length\n",
    "\n",
    "# Find values in unitid but not in city['MACS-ID']\n",
    "missing_unitids = list(set(unitid) - set(city['MACS-ID']))\n",
    "\n",
    "print(missing_unitids)"
   ]
  },
  {
   "cell_type": "code",
   "execution_count": 35,
   "metadata": {},
   "outputs": [],
   "source": [
    "unitid = list(area_fire[\"UNIT_ID\"].unique())\n",
    "\n",
    "agentcity= pd.read_excel(r'agency+unit id.xlsx',sheet_name='Table 5')\n",
    "\n",
    "city_mentioned= agentcity[agentcity['Stored Value'].isin(unitid)]\n",
    "\n",
    "agent_name= city_mentioned['Display Value']\n",
    "\n",
    "\n",
    "\n"
   ]
  },
  {
   "cell_type": "markdown",
   "metadata": {},
   "source": [
    "for weather data: we have to align the weather station to the fire stations \n",
    "with their corresponding city\n"
   ]
  },
  {
   "cell_type": "code",
   "execution_count": 51,
   "metadata": {},
   "outputs": [],
   "source": [
    "weather_stn = pd.read_excel(r'ghcnd-stations-CA only.xlsx')\n",
    "weather_stn = weather_stn.drop(columns=['GSN FLAG', 'HCN/CRN FLAG'])"
   ]
  },
  {
   "cell_type": "code",
   "execution_count": null,
   "metadata": {},
   "outputs": [],
   "source": [
    "area_fire=area_fire.drop(['CONT_DATE'],axis=1)\n"
   ]
  },
  {
   "cell_type": "code",
   "execution_count": null,
   "metadata": {},
   "outputs": [],
   "source": [
    "\n",
    "# Join and drop unmatched values\n",
    "df = df.join(scores, how='inner')  # 'inner' keeps only matching rows\n",
    "\n",
    "print(df)"
   ]
  },
  {
   "cell_type": "code",
   "execution_count": null,
   "metadata": {},
   "outputs": [
    {
     "data": {
      "text/html": [
       "<div>\n",
       "<style scoped>\n",
       "    .dataframe tbody tr th:only-of-type {\n",
       "        vertical-align: middle;\n",
       "    }\n",
       "\n",
       "    .dataframe tbody tr th {\n",
       "        vertical-align: top;\n",
       "    }\n",
       "\n",
       "    .dataframe thead th {\n",
       "        text-align: right;\n",
       "    }\n",
       "</style>\n",
       "<table border=\"1\" class=\"dataframe\">\n",
       "  <thead>\n",
       "    <tr style=\"text-align: right;\">\n",
       "      <th></th>\n",
       "      <th>FIRE_START_DAY</th>\n",
       "      <th>PRECIPITATION</th>\n",
       "      <th>MAX_TEMP</th>\n",
       "      <th>MIN_TEMP</th>\n",
       "      <th>AVG_WIND_SPEED</th>\n",
       "      <th>TEMP_RANGE</th>\n",
       "      <th>WIND_TEMP_RATIO</th>\n",
       "      <th>LAGGED_PRECIPITATION</th>\n",
       "      <th>LAGGED_AVG_WIND_SPEED</th>\n",
       "      <th>SEASON</th>\n",
       "      <th>DAY_OF_YEAR</th>\n",
       "    </tr>\n",
       "    <tr>\n",
       "      <th>DATE</th>\n",
       "      <th></th>\n",
       "      <th></th>\n",
       "      <th></th>\n",
       "      <th></th>\n",
       "      <th></th>\n",
       "      <th></th>\n",
       "      <th></th>\n",
       "      <th></th>\n",
       "      <th></th>\n",
       "      <th></th>\n",
       "      <th></th>\n",
       "    </tr>\n",
       "  </thead>\n",
       "  <tbody>\n",
       "    <tr>\n",
       "      <th>31/12/2023</th>\n",
       "      <td>False</td>\n",
       "      <td>0.00</td>\n",
       "      <td>60</td>\n",
       "      <td>51</td>\n",
       "      <td>4.92</td>\n",
       "      <td>9</td>\n",
       "      <td>0.082000</td>\n",
       "      <td>0.62</td>\n",
       "      <td>5.558571</td>\n",
       "      <td>Winter</td>\n",
       "      <td>365</td>\n",
       "    </tr>\n",
       "    <tr>\n",
       "      <th>30/12/2023</th>\n",
       "      <td>False</td>\n",
       "      <td>0.62</td>\n",
       "      <td>62</td>\n",
       "      <td>54</td>\n",
       "      <td>8.50</td>\n",
       "      <td>8</td>\n",
       "      <td>0.137097</td>\n",
       "      <td>0.62</td>\n",
       "      <td>5.558571</td>\n",
       "      <td>Winter</td>\n",
       "      <td>364</td>\n",
       "    </tr>\n",
       "    <tr>\n",
       "      <th>29/12/2023</th>\n",
       "      <td>False</td>\n",
       "      <td>0.00</td>\n",
       "      <td>65</td>\n",
       "      <td>52</td>\n",
       "      <td>3.80</td>\n",
       "      <td>13</td>\n",
       "      <td>0.058462</td>\n",
       "      <td>0.00</td>\n",
       "      <td>5.175714</td>\n",
       "      <td>Winter</td>\n",
       "      <td>363</td>\n",
       "    </tr>\n",
       "    <tr>\n",
       "      <th>28/12/2023</th>\n",
       "      <td>False</td>\n",
       "      <td>0.00</td>\n",
       "      <td>64</td>\n",
       "      <td>50</td>\n",
       "      <td>5.59</td>\n",
       "      <td>14</td>\n",
       "      <td>0.087344</td>\n",
       "      <td>0.50</td>\n",
       "      <td>5.782857</td>\n",
       "      <td>Winter</td>\n",
       "      <td>362</td>\n",
       "    </tr>\n",
       "    <tr>\n",
       "      <th>27/12/2023</th>\n",
       "      <td>False</td>\n",
       "      <td>0.00</td>\n",
       "      <td>62</td>\n",
       "      <td>52</td>\n",
       "      <td>5.59</td>\n",
       "      <td>10</td>\n",
       "      <td>0.090161</td>\n",
       "      <td>1.83</td>\n",
       "      <td>6.198571</td>\n",
       "      <td>Winter</td>\n",
       "      <td>361</td>\n",
       "    </tr>\n",
       "    <tr>\n",
       "      <th>...</th>\n",
       "      <td>...</td>\n",
       "      <td>...</td>\n",
       "      <td>...</td>\n",
       "      <td>...</td>\n",
       "      <td>...</td>\n",
       "      <td>...</td>\n",
       "      <td>...</td>\n",
       "      <td>...</td>\n",
       "      <td>...</td>\n",
       "      <td>...</td>\n",
       "      <td>...</td>\n",
       "    </tr>\n",
       "    <tr>\n",
       "      <th>5/1/1984</th>\n",
       "      <td>False</td>\n",
       "      <td>0.00</td>\n",
       "      <td>74</td>\n",
       "      <td>49</td>\n",
       "      <td>5.14</td>\n",
       "      <td>25</td>\n",
       "      <td>0.069459</td>\n",
       "      <td>0.00</td>\n",
       "      <td>5.100000</td>\n",
       "      <td>Winter</td>\n",
       "      <td>5</td>\n",
       "    </tr>\n",
       "    <tr>\n",
       "      <th>4/1/1984</th>\n",
       "      <td>False</td>\n",
       "      <td>0.00</td>\n",
       "      <td>76</td>\n",
       "      <td>45</td>\n",
       "      <td>4.70</td>\n",
       "      <td>31</td>\n",
       "      <td>0.061842</td>\n",
       "      <td>0.00</td>\n",
       "      <td>5.090000</td>\n",
       "      <td>Winter</td>\n",
       "      <td>4</td>\n",
       "    </tr>\n",
       "    <tr>\n",
       "      <th>3/1/1984</th>\n",
       "      <td>False</td>\n",
       "      <td>0.00</td>\n",
       "      <td>70</td>\n",
       "      <td>47</td>\n",
       "      <td>5.37</td>\n",
       "      <td>23</td>\n",
       "      <td>0.076714</td>\n",
       "      <td>0.00</td>\n",
       "      <td>5.220000</td>\n",
       "      <td>Winter</td>\n",
       "      <td>3</td>\n",
       "    </tr>\n",
       "    <tr>\n",
       "      <th>2/1/1984</th>\n",
       "      <td>False</td>\n",
       "      <td>0.00</td>\n",
       "      <td>71</td>\n",
       "      <td>46</td>\n",
       "      <td>5.59</td>\n",
       "      <td>25</td>\n",
       "      <td>0.078732</td>\n",
       "      <td>0.00</td>\n",
       "      <td>5.145000</td>\n",
       "      <td>Winter</td>\n",
       "      <td>2</td>\n",
       "    </tr>\n",
       "    <tr>\n",
       "      <th>1/1/1984</th>\n",
       "      <td>False</td>\n",
       "      <td>0.00</td>\n",
       "      <td>79</td>\n",
       "      <td>51</td>\n",
       "      <td>4.70</td>\n",
       "      <td>28</td>\n",
       "      <td>0.059494</td>\n",
       "      <td>0.00</td>\n",
       "      <td>4.700000</td>\n",
       "      <td>Winter</td>\n",
       "      <td>1</td>\n",
       "    </tr>\n",
       "  </tbody>\n",
       "</table>\n",
       "<p>14610 rows × 11 columns</p>\n",
       "</div>"
      ],
      "text/plain": [
       "            FIRE_START_DAY  PRECIPITATION  MAX_TEMP  MIN_TEMP  AVG_WIND_SPEED  \\\n",
       "DATE                                                                            \n",
       "31/12/2023           False           0.00        60        51            4.92   \n",
       "30/12/2023           False           0.62        62        54            8.50   \n",
       "29/12/2023           False           0.00        65        52            3.80   \n",
       "28/12/2023           False           0.00        64        50            5.59   \n",
       "27/12/2023           False           0.00        62        52            5.59   \n",
       "...                    ...            ...       ...       ...             ...   \n",
       "5/1/1984             False           0.00        74        49            5.14   \n",
       "4/1/1984             False           0.00        76        45            4.70   \n",
       "3/1/1984             False           0.00        70        47            5.37   \n",
       "2/1/1984             False           0.00        71        46            5.59   \n",
       "1/1/1984             False           0.00        79        51            4.70   \n",
       "\n",
       "            TEMP_RANGE  WIND_TEMP_RATIO  LAGGED_PRECIPITATION  \\\n",
       "DATE                                                            \n",
       "31/12/2023           9         0.082000                  0.62   \n",
       "30/12/2023           8         0.137097                  0.62   \n",
       "29/12/2023          13         0.058462                  0.00   \n",
       "28/12/2023          14         0.087344                  0.50   \n",
       "27/12/2023          10         0.090161                  1.83   \n",
       "...                ...              ...                   ...   \n",
       "5/1/1984            25         0.069459                  0.00   \n",
       "4/1/1984            31         0.061842                  0.00   \n",
       "3/1/1984            23         0.076714                  0.00   \n",
       "2/1/1984            25         0.078732                  0.00   \n",
       "1/1/1984            28         0.059494                  0.00   \n",
       "\n",
       "            LAGGED_AVG_WIND_SPEED  SEASON  DAY_OF_YEAR  \n",
       "DATE                                                    \n",
       "31/12/2023               5.558571  Winter          365  \n",
       "30/12/2023               5.558571  Winter          364  \n",
       "29/12/2023               5.175714  Winter          363  \n",
       "28/12/2023               5.782857  Winter          362  \n",
       "27/12/2023               6.198571  Winter          361  \n",
       "...                           ...     ...          ...  \n",
       "5/1/1984                 5.100000  Winter            5  \n",
       "4/1/1984                 5.090000  Winter            4  \n",
       "3/1/1984                 5.220000  Winter            3  \n",
       "2/1/1984                 5.145000  Winter            2  \n",
       "1/1/1984                 4.700000  Winter            1  \n",
       "\n",
       "[14610 rows x 11 columns]"
      ]
     },
     "execution_count": 21,
     "metadata": {},
     "output_type": "execute_result"
    }
   ],
   "source": [
    "area_date=area_fire.iloc[:, 0:4]\n",
    "area_date.set_index(['ALARM_DATE'])\n",
    "weather_fire.set_index(['DATE'])\n"
   ]
  },
  {
   "cell_type": "markdown",
   "metadata": {},
   "source": [
    "### Step 2 – Preprocess the Dataset\n",
    " \n",
    " The features are all on different scales. To bring them all to a common scale, we’ll use the **StandardScaler** that transforms the features to have zero mean and unit variance:"
   ]
  },
  {
   "cell_type": "markdown",
   "metadata": {},
   "source": [
    "##### Thoughts\n",
    "run a PCA to see which top 2-3 factors are the most crucial?"
   ]
  },
  {
   "cell_type": "code",
   "execution_count": 4,
   "metadata": {},
   "outputs": [
    {
     "ename": "NameError",
     "evalue": "name 'ca_fire' is not defined",
     "output_type": "error",
     "traceback": [
      "\u001b[0;31m---------------------------------------------------------------------------\u001b[0m",
      "\u001b[0;31mNameError\u001b[0m                                 Traceback (most recent call last)",
      "Cell \u001b[0;32mIn[4], line 6\u001b[0m\n\u001b[1;32m      4\u001b[0m features \u001b[38;5;241m=\u001b[39m [\u001b[38;5;124m'\u001b[39m\u001b[38;5;124msepal length\u001b[39m\u001b[38;5;124m'\u001b[39m, \u001b[38;5;124m'\u001b[39m\u001b[38;5;124msepal width\u001b[39m\u001b[38;5;124m'\u001b[39m, \u001b[38;5;124m'\u001b[39m\u001b[38;5;124mpetal length\u001b[39m\u001b[38;5;124m'\u001b[39m, \u001b[38;5;124m'\u001b[39m\u001b[38;5;124mpetal width\u001b[39m\u001b[38;5;124m'\u001b[39m]\n\u001b[1;32m      5\u001b[0m std_scaler \u001b[38;5;241m=\u001b[39m StandardScaler()\n\u001b[0;32m----> 6\u001b[0m scaled_cafire \u001b[38;5;241m=\u001b[39m std_scaler\u001b[38;5;241m.\u001b[39mfit_transform(ca_fire)\n",
      "\u001b[0;31mNameError\u001b[0m: name 'ca_fire' is not defined"
     ]
    }
   ],
   "source": [
    "import sklearn \n",
    "from sklearn.preprocessing import StandardScaler\n",
    "#separate features and\n",
    "features = ['sepal length', 'sepal width', 'petal length', 'petal width']\n",
    "std_scaler = StandardScaler()\n",
    "scaled_cafire = std_scaler.fit_transform(ca_fire)"
   ]
  },
  {
   "cell_type": "code",
   "execution_count": null,
   "metadata": {},
   "outputs": [],
   "source": [
    "import numpy as np\n",
    "from sklearn.model_selection import train_test_split"
   ]
  }
 ],
 "metadata": {
  "kernelspec": {
   "display_name": "Python 3",
   "language": "python",
   "name": "python3"
  },
  "language_info": {
   "codemirror_mode": {
    "name": "ipython",
    "version": 3
   },
   "file_extension": ".py",
   "mimetype": "text/x-python",
   "name": "python",
   "nbconvert_exporter": "python",
   "pygments_lexer": "ipython3",
   "version": "3.12.2"
  }
 },
 "nbformat": 4,
 "nbformat_minor": 2
}
